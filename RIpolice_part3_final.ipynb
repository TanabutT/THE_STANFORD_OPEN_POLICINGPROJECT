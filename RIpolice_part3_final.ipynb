{
 "cells": [
  {
   "cell_type": "markdown",
   "metadata": {
    "id": "3RKC0wygRxjb"
   },
   "source": [
    "# THE STANFORDOPEN POLICINGPROJECT part 3"
   ]
  },
  {
   "cell_type": "code",
   "execution_count": null,
   "metadata": {
    "id": "AYGuxu8n9rPR",
    "jupyter": {
     "source_hidden": true
    },
    "tags": []
   },
   "outputs": [],
   "source": [
    "import tensorflow as tf\n",
    "from tensorflow import keras"
   ]
  },
  {
   "cell_type": "code",
   "execution_count": null,
   "metadata": {
    "collapsed": true,
    "id": "miqxHbSs9rPS",
    "jupyter": {
     "outputs_hidden": true,
     "source_hidden": true
    },
    "outputId": "b5337e7d-c496-4b89-dfa1-6f283a5b9e34",
    "tags": []
   },
   "outputs": [
    {
     "data": {
      "text/plain": [
       "True"
      ]
     },
     "execution_count": 2,
     "metadata": {
      "tags": []
     },
     "output_type": "execute_result"
    }
   ],
   "source": [
    "tf.test.is_built_with_cuda()\n"
   ]
  },
  {
   "cell_type": "code",
   "execution_count": null,
   "metadata": {
    "collapsed": true,
    "id": "265A1dJO9rPT",
    "jupyter": {
     "outputs_hidden": true
    },
    "outputId": "cd3bcee6-8853-4003-bd32-fba8c9dec0a0",
    "tags": []
   },
   "outputs": [
    {
     "name": "stdout",
     "output_type": "stream",
     "text": [
      "num GPUs Available:  1\n"
     ]
    }
   ],
   "source": [
    "print(\"num GPUs Available: \", len(tf.config.experimental.list_physical_devices('GPU')))"
   ]
  },
  {
   "cell_type": "code",
   "execution_count": null,
   "metadata": {
    "collapsed": true,
    "id": "wnfHxV899rPU",
    "jupyter": {
     "outputs_hidden": true,
     "source_hidden": true
    },
    "outputId": "2d888580-f055-4f40-c4b2-e5ce38b68dfc",
    "tags": []
   },
   "outputs": [
    {
     "name": "stdout",
     "output_type": "stream",
     "text": [
      "2.4.1\n"
     ]
    }
   ],
   "source": [
    "print(tf.version.VERSION)"
   ]
  },
  {
   "cell_type": "code",
   "execution_count": null,
   "metadata": {
    "collapsed": true,
    "id": "7wZR0YCF9rPU",
    "jupyter": {
     "outputs_hidden": true,
     "source_hidden": true
    },
    "outputId": "1d6f657a-876d-4c5f-ab51-a6c4927a692b",
    "tags": []
   },
   "outputs": [
    {
     "data": {
      "text/plain": [
       "'3.8.0 (default, Nov  6 2019, 16:00:02) [MSC v.1916 64 bit (AMD64)]'"
      ]
     },
     "execution_count": 5,
     "metadata": {
      "tags": []
     },
     "output_type": "execute_result"
    }
   ],
   "source": [
    "import sys\n",
    "sys.version"
   ]
  },
  {
   "cell_type": "markdown",
   "metadata": {
    "id": "rP0FSphPyjLu"
   },
   "source": [
    "ต่อมาจาก part 2 จะเห็นว่าข้อมูลที่มีอยู่นั้น เป็น imbalance data คือ การตวรจค้นของตำรวจหลังจากยานพาหนะ ได้มีการเรียกให้หยุดโดยตำรวจ ไม่ได้มีจำนวนการเกิดขึ้นมากพอที่จะเทียบเท่ากับ การไม่ได้ตวรจค้นภายในยานพาหนะ พูดง่ายๆ ว่า ค้นภายในรถบางคันเท่านั้น รถที่ถูกเลือกที่ตรวจค้นจึงน้อยกว่ารถที่ไม่ถูกค้นเป็นจำนวนมาก"
   ]
  },
  {
   "cell_type": "markdown",
   "metadata": {
    "id": "bDnjP57NiaxH"
   },
   "source": [
    "## จุดมุ่งหมายของการปรับปรุง Machine Learning model \n",
    "  "
   ]
  },
  {
   "cell_type": "markdown",
   "metadata": {
    "id": "ZL1mZaxenlPl"
   },
   "source": [
    "1. จัดการ imbalace data ในที่นี้เลือกใช้แบบไหนต้องลองดูกันว่าแบบไหนดีที่สุดจาก Random undersampling, Ensamble resampling, Class re-weight แต่ขอข้ามตัวที่เพิ่มข้อมูลที่เป็นการใช้ perfomance ของคอมพิวเตอร์สูงไปก่อนคือตัว Random oversampling และ SMOT (Synthetic Minority Oversampling Technique)\n",
    "\n",
    "2. ทดลองกับ machine learning โดยใช้หลักการ Multi-Fidelity Search ทั้ง grid serch และ random search\n",
    "\n",
    "3. ใช้ hyperband ช่วยในการ allocate resource เป็นการช่วยให้สามารถทำงานบนเครื่องคอมพิวเตอร์ที่ไม่ได้มี resource สูงมาก และประหยัดเวลากว่า gridsearch และ randomsearch\n",
    "\n",
    "4. เลือกดูค่าการวัดผลที่สอดคล้องกับการใช้งานจริงจาก coufusion matrix ในที่นี้้ต้องดูค่า recall จาก Precision-Recal Curve แล้วดูค่า Area under Precision-Recall Curve (AUC of PR-curve) and Average Precision (AP) ประกอบด้วย"
   ]
  },
  {
   "cell_type": "markdown",
   "metadata": {
    "id": "GsJy4p5V0Dmi"
   },
   "source": [
    "### \"Although we already reduced the space of considered ML algorithmssubstantially compared to our previous Auto-sklearn (4 vs. 15 classifiers), we could have reduced this set even further since, in the end, only XGBoost models ended up in the final ensembles for the challenge\"\n",
    "\n",
    "Feurer et al, PoSH auto-sklearn"
   ]
  },
  {
   "cell_type": "markdown",
   "metadata": {
    "id": "9IajKXGh0hcr"
   },
   "source": [
    "จาก คำพูดข้างบนนี้ เราจึงไม่ได้ใช้ AUTO ML แต่เลือกที่จะใช้ XGBoost models หลังจากจัดการกับ imbalance data\n",
    "\n",
    "[XGBoost Python Package](https://xgboost.readthedocs.io/en/latest/python/python_api.html#module-xgboost.sklearn)"
   ]
  },
  {
   "cell_type": "markdown",
   "metadata": {
    "id": "0MRC0e0KhQ0S"
   },
   "source": [
    "# เริ่มสร้าง Machine learning model กันเลยครับ\n",
    "\n",
    "  กำหนดตัวผลลัพท์จาก model ที่เราต้องการ\n",
    "ขั้นแรก เราต้องการให้ผลลัพท์คือ ค่า y_pred (ค่าการทำนายจาก model) จากข้อมูลของการปฏิบัติงานของตำรวจใน Rhode Island ที่เกิดขึ้นจริงและเก็บ record ไว้ ในครั้งนี้จะมาสนใจในการทำ model ว่าจากพื้นฐานข้อมูลที่มีอยู่นี้ลักษณะการปฏิบัติงานของตำรวจส่งผลต่อการ ตรวจค้นยานพาหนะในท้ายที่สุดหรือไม่ นั่นก็คือ เราให้ label ที่ต้องการจะ model บอกเราครับ เพราะฉะนั้น จากตารางที่เรามีข้างล่างจะเห็นว่า ควร drop เรื่องของการถูกจับกุมหลังตรวจค้นยานพาหนะทิ้งไปเนื่องจากเป็นผลที่เกิดหลังจากพบเจอสิ่งผิดกฏหมาย\n",
    "<br>\n",
    "<br>\n",
    "  <b><U>ให้ label หรือผลลัพธ์ที่ต้องการจาก model ที่ได้คือ search_conducted ก็คือการตรวจค้นยานพาหนะ<b><u>"
   ]
  },
  {
   "cell_type": "markdown",
   "metadata": {
    "id": "LWd1UlMnhT2s"
   },
   "source": [
    "## Importing the libraries"
   ]
  },
  {
   "cell_type": "code",
   "execution_count": null,
   "metadata": {
    "id": "iYKnBPLZl8lx"
   },
   "outputs": [],
   "source": [
    "import numpy as np\n",
    "import matplotlib.pyplot as plt\n",
    "import pandas as pd "
   ]
  },
  {
   "cell_type": "markdown",
   "metadata": {
    "id": "K1VMqkGvhc3-"
   },
   "source": [
    "## Importing the dataset and prepare prior to model input"
   ]
  },
  {
   "cell_type": "code",
   "execution_count": null,
   "metadata": {
    "id": "FJeJxFizmuwv"
   },
   "outputs": [],
   "source": [
    "raw = pd.read_csv(r'C:\\Users\\t_tan\\Documents\\SWU Msc DataScience\\DS511 DS\\ProjectFinalDS511_110_115\\FinalDS SWU 631130110\\PoliceRI2020cleaned.csv',index_col= \"date_stop_time\")"
   ]
  },
  {
   "cell_type": "code",
   "execution_count": null,
   "metadata": {
    "colab": {
     "base_uri": "https://localhost:8080/",
     "height": 228
    },
    "id": "qTROqcKuiz6S",
    "outputId": "7d7f7607-00e0-499a-afec-f975662dd659"
   },
   "outputs": [
    {
     "data": {
      "text/html": [
       "<div>\n",
       "<style scoped>\n",
       "    .dataframe tbody tr th:only-of-type {\n",
       "        vertical-align: middle;\n",
       "    }\n",
       "\n",
       "    .dataframe tbody tr th {\n",
       "        vertical-align: top;\n",
       "    }\n",
       "\n",
       "    .dataframe thead th {\n",
       "        text-align: right;\n",
       "    }\n",
       "</style>\n",
       "<table border=\"1\" class=\"dataframe\">\n",
       "  <thead>\n",
       "    <tr style=\"text-align: right;\">\n",
       "      <th></th>\n",
       "      <th>district</th>\n",
       "      <th>driver_race</th>\n",
       "      <th>driver_gender</th>\n",
       "      <th>arrest_made</th>\n",
       "      <th>citation_issued</th>\n",
       "      <th>warning_issued</th>\n",
       "      <th>contraband_drugs</th>\n",
       "      <th>contraband_weapons</th>\n",
       "      <th>contraband_alcohol</th>\n",
       "      <th>frisk_performed</th>\n",
       "      <th>search_conducted</th>\n",
       "      <th>reason_for_stop</th>\n",
       "    </tr>\n",
       "    <tr>\n",
       "      <th>date_stop_time</th>\n",
       "      <th></th>\n",
       "      <th></th>\n",
       "      <th></th>\n",
       "      <th></th>\n",
       "      <th></th>\n",
       "      <th></th>\n",
       "      <th></th>\n",
       "      <th></th>\n",
       "      <th></th>\n",
       "      <th></th>\n",
       "      <th></th>\n",
       "      <th></th>\n",
       "    </tr>\n",
       "  </thead>\n",
       "  <tbody>\n",
       "    <tr>\n",
       "      <th>2005-11-22 11:15:00</th>\n",
       "      <td>X3</td>\n",
       "      <td>white</td>\n",
       "      <td>male</td>\n",
       "      <td>False</td>\n",
       "      <td>True</td>\n",
       "      <td>False</td>\n",
       "      <td>False</td>\n",
       "      <td>False</td>\n",
       "      <td>False</td>\n",
       "      <td>False</td>\n",
       "      <td>False</td>\n",
       "      <td>Speeding</td>\n",
       "    </tr>\n",
       "    <tr>\n",
       "      <th>2005-10-01 12:20:00</th>\n",
       "      <td>X3</td>\n",
       "      <td>white</td>\n",
       "      <td>male</td>\n",
       "      <td>False</td>\n",
       "      <td>True</td>\n",
       "      <td>False</td>\n",
       "      <td>False</td>\n",
       "      <td>False</td>\n",
       "      <td>False</td>\n",
       "      <td>False</td>\n",
       "      <td>False</td>\n",
       "      <td>Speeding</td>\n",
       "    </tr>\n",
       "    <tr>\n",
       "      <th>2005-10-01 12:30:00</th>\n",
       "      <td>X3</td>\n",
       "      <td>white</td>\n",
       "      <td>female</td>\n",
       "      <td>False</td>\n",
       "      <td>True</td>\n",
       "      <td>False</td>\n",
       "      <td>False</td>\n",
       "      <td>False</td>\n",
       "      <td>False</td>\n",
       "      <td>False</td>\n",
       "      <td>False</td>\n",
       "      <td>Speeding</td>\n",
       "    </tr>\n",
       "    <tr>\n",
       "      <th>2005-10-01 12:50:00</th>\n",
       "      <td>X3</td>\n",
       "      <td>white</td>\n",
       "      <td>male</td>\n",
       "      <td>False</td>\n",
       "      <td>True</td>\n",
       "      <td>False</td>\n",
       "      <td>False</td>\n",
       "      <td>False</td>\n",
       "      <td>False</td>\n",
       "      <td>False</td>\n",
       "      <td>False</td>\n",
       "      <td>Speeding</td>\n",
       "    </tr>\n",
       "    <tr>\n",
       "      <th>2005-10-01 13:10:00</th>\n",
       "      <td>X3</td>\n",
       "      <td>white</td>\n",
       "      <td>female</td>\n",
       "      <td>False</td>\n",
       "      <td>True</td>\n",
       "      <td>False</td>\n",
       "      <td>False</td>\n",
       "      <td>False</td>\n",
       "      <td>False</td>\n",
       "      <td>False</td>\n",
       "      <td>False</td>\n",
       "      <td>Speeding</td>\n",
       "    </tr>\n",
       "  </tbody>\n",
       "</table>\n",
       "</div>"
      ],
      "text/plain": [
       "                    district driver_race driver_gender  arrest_made  \\\n",
       "date_stop_time                                                        \n",
       "2005-11-22 11:15:00       X3       white          male        False   \n",
       "2005-10-01 12:20:00       X3       white          male        False   \n",
       "2005-10-01 12:30:00       X3       white        female        False   \n",
       "2005-10-01 12:50:00       X3       white          male        False   \n",
       "2005-10-01 13:10:00       X3       white        female        False   \n",
       "\n",
       "                     citation_issued  warning_issued  contraband_drugs  \\\n",
       "date_stop_time                                                           \n",
       "2005-11-22 11:15:00             True           False             False   \n",
       "2005-10-01 12:20:00             True           False             False   \n",
       "2005-10-01 12:30:00             True           False             False   \n",
       "2005-10-01 12:50:00             True           False             False   \n",
       "2005-10-01 13:10:00             True           False             False   \n",
       "\n",
       "                     contraband_weapons  contraband_alcohol  frisk_performed  \\\n",
       "date_stop_time                                                                 \n",
       "2005-11-22 11:15:00               False               False            False   \n",
       "2005-10-01 12:20:00               False               False            False   \n",
       "2005-10-01 12:30:00               False               False            False   \n",
       "2005-10-01 12:50:00               False               False            False   \n",
       "2005-10-01 13:10:00               False               False            False   \n",
       "\n",
       "                     search_conducted reason_for_stop  \n",
       "date_stop_time                                         \n",
       "2005-11-22 11:15:00             False        Speeding  \n",
       "2005-10-01 12:20:00             False        Speeding  \n",
       "2005-10-01 12:30:00             False        Speeding  \n",
       "2005-10-01 12:50:00             False        Speeding  \n",
       "2005-10-01 13:10:00             False        Speeding  "
      ]
     },
     "execution_count": 166,
     "metadata": {
      "tags": []
     },
     "output_type": "execute_result"
    }
   ],
   "source": [
    "raw.head()"
   ]
  },
  {
   "cell_type": "markdown",
   "metadata": {
    "id": "lEsFKFonrVXs"
   },
   "source": [
    "## ทำการสลับให้ column ที่เป็น label ไปอยู่ท้ายสุดให้ง่ายต่อการเลือก column ในการทำงาน\n",
    "  "
   ]
  },
  {
   "cell_type": "markdown",
   "metadata": {
    "id": "CXGRixnIpHnW"
   },
   "source": [
    "ข้อมูลเป็นแบบตารางที่ทำการ clean มาเรียบร้อยแล้วแต่ยังต้องมีการจัดเรียงให้ง่ายต่อการป้อนเข้าสู่ model ของ ML: machine learning ต่อไป เราจะกำหนดจากจุดมุ่งหมายได้บน"
   ]
  },
  {
   "cell_type": "code",
   "execution_count": null,
   "metadata": {
    "colab": {
     "base_uri": "https://localhost:8080/"
    },
    "id": "74GjakoHq6n0",
    "outputId": "32295345-dd81-4775-b129-6ea2bafcc2a0"
   },
   "outputs": [
    {
     "data": {
      "text/plain": [
       "Index(['district', 'driver_race', 'driver_gender', 'arrest_made',\n",
       "       'citation_issued', 'warning_issued', 'contraband_drugs',\n",
       "       'contraband_weapons', 'contraband_alcohol', 'frisk_performed',\n",
       "       'search_conducted', 'reason_for_stop'],\n",
       "      dtype='object')"
      ]
     },
     "execution_count": 167,
     "metadata": {
      "tags": []
     },
     "output_type": "execute_result"
    }
   ],
   "source": [
    "raw.columns"
   ]
  },
  {
   "cell_type": "code",
   "execution_count": null,
   "metadata": {
    "colab": {
     "base_uri": "https://localhost:8080/",
     "height": 228
    },
    "id": "xWmpZBpDq_CX",
    "outputId": "4a7e7057-e6f0-494f-969b-4136458cf3fc"
   },
   "outputs": [
    {
     "data": {
      "text/html": [
       "<div>\n",
       "<style scoped>\n",
       "    .dataframe tbody tr th:only-of-type {\n",
       "        vertical-align: middle;\n",
       "    }\n",
       "\n",
       "    .dataframe tbody tr th {\n",
       "        vertical-align: top;\n",
       "    }\n",
       "\n",
       "    .dataframe thead th {\n",
       "        text-align: right;\n",
       "    }\n",
       "</style>\n",
       "<table border=\"1\" class=\"dataframe\">\n",
       "  <thead>\n",
       "    <tr style=\"text-align: right;\">\n",
       "      <th></th>\n",
       "      <th>district</th>\n",
       "      <th>driver_race</th>\n",
       "      <th>driver_gender</th>\n",
       "      <th>arrest_made</th>\n",
       "      <th>citation_issued</th>\n",
       "      <th>warning_issued</th>\n",
       "      <th>contraband_drugs</th>\n",
       "      <th>contraband_weapons</th>\n",
       "      <th>contraband_alcohol</th>\n",
       "      <th>frisk_performed</th>\n",
       "      <th>reason_for_stop</th>\n",
       "      <th>search_conducted</th>\n",
       "    </tr>\n",
       "    <tr>\n",
       "      <th>date_stop_time</th>\n",
       "      <th></th>\n",
       "      <th></th>\n",
       "      <th></th>\n",
       "      <th></th>\n",
       "      <th></th>\n",
       "      <th></th>\n",
       "      <th></th>\n",
       "      <th></th>\n",
       "      <th></th>\n",
       "      <th></th>\n",
       "      <th></th>\n",
       "      <th></th>\n",
       "    </tr>\n",
       "  </thead>\n",
       "  <tbody>\n",
       "    <tr>\n",
       "      <th>2005-11-22 11:15:00</th>\n",
       "      <td>X3</td>\n",
       "      <td>white</td>\n",
       "      <td>male</td>\n",
       "      <td>False</td>\n",
       "      <td>True</td>\n",
       "      <td>False</td>\n",
       "      <td>False</td>\n",
       "      <td>False</td>\n",
       "      <td>False</td>\n",
       "      <td>False</td>\n",
       "      <td>Speeding</td>\n",
       "      <td>False</td>\n",
       "    </tr>\n",
       "    <tr>\n",
       "      <th>2005-10-01 12:20:00</th>\n",
       "      <td>X3</td>\n",
       "      <td>white</td>\n",
       "      <td>male</td>\n",
       "      <td>False</td>\n",
       "      <td>True</td>\n",
       "      <td>False</td>\n",
       "      <td>False</td>\n",
       "      <td>False</td>\n",
       "      <td>False</td>\n",
       "      <td>False</td>\n",
       "      <td>Speeding</td>\n",
       "      <td>False</td>\n",
       "    </tr>\n",
       "    <tr>\n",
       "      <th>2005-10-01 12:30:00</th>\n",
       "      <td>X3</td>\n",
       "      <td>white</td>\n",
       "      <td>female</td>\n",
       "      <td>False</td>\n",
       "      <td>True</td>\n",
       "      <td>False</td>\n",
       "      <td>False</td>\n",
       "      <td>False</td>\n",
       "      <td>False</td>\n",
       "      <td>False</td>\n",
       "      <td>Speeding</td>\n",
       "      <td>False</td>\n",
       "    </tr>\n",
       "    <tr>\n",
       "      <th>2005-10-01 12:50:00</th>\n",
       "      <td>X3</td>\n",
       "      <td>white</td>\n",
       "      <td>male</td>\n",
       "      <td>False</td>\n",
       "      <td>True</td>\n",
       "      <td>False</td>\n",
       "      <td>False</td>\n",
       "      <td>False</td>\n",
       "      <td>False</td>\n",
       "      <td>False</td>\n",
       "      <td>Speeding</td>\n",
       "      <td>False</td>\n",
       "    </tr>\n",
       "    <tr>\n",
       "      <th>2005-10-01 13:10:00</th>\n",
       "      <td>X3</td>\n",
       "      <td>white</td>\n",
       "      <td>female</td>\n",
       "      <td>False</td>\n",
       "      <td>True</td>\n",
       "      <td>False</td>\n",
       "      <td>False</td>\n",
       "      <td>False</td>\n",
       "      <td>False</td>\n",
       "      <td>False</td>\n",
       "      <td>Speeding</td>\n",
       "      <td>False</td>\n",
       "    </tr>\n",
       "  </tbody>\n",
       "</table>\n",
       "</div>"
      ],
      "text/plain": [
       "                    district driver_race driver_gender  arrest_made  \\\n",
       "date_stop_time                                                        \n",
       "2005-11-22 11:15:00       X3       white          male        False   \n",
       "2005-10-01 12:20:00       X3       white          male        False   \n",
       "2005-10-01 12:30:00       X3       white        female        False   \n",
       "2005-10-01 12:50:00       X3       white          male        False   \n",
       "2005-10-01 13:10:00       X3       white        female        False   \n",
       "\n",
       "                     citation_issued  warning_issued  contraband_drugs  \\\n",
       "date_stop_time                                                           \n",
       "2005-11-22 11:15:00             True           False             False   \n",
       "2005-10-01 12:20:00             True           False             False   \n",
       "2005-10-01 12:30:00             True           False             False   \n",
       "2005-10-01 12:50:00             True           False             False   \n",
       "2005-10-01 13:10:00             True           False             False   \n",
       "\n",
       "                     contraband_weapons  contraband_alcohol  frisk_performed  \\\n",
       "date_stop_time                                                                 \n",
       "2005-11-22 11:15:00               False               False            False   \n",
       "2005-10-01 12:20:00               False               False            False   \n",
       "2005-10-01 12:30:00               False               False            False   \n",
       "2005-10-01 12:50:00               False               False            False   \n",
       "2005-10-01 13:10:00               False               False            False   \n",
       "\n",
       "                    reason_for_stop  search_conducted  \n",
       "date_stop_time                                         \n",
       "2005-11-22 11:15:00        Speeding             False  \n",
       "2005-10-01 12:20:00        Speeding             False  \n",
       "2005-10-01 12:30:00        Speeding             False  \n",
       "2005-10-01 12:50:00        Speeding             False  \n",
       "2005-10-01 13:10:00        Speeding             False  "
      ]
     },
     "execution_count": 168,
     "metadata": {
      "tags": []
     },
     "output_type": "execute_result"
    }
   ],
   "source": [
    "raw = raw[['district', 'driver_race', 'driver_gender', 'arrest_made',\n",
    "       'citation_issued', 'warning_issued', 'contraband_drugs',\n",
    "       'contraband_weapons', 'contraband_alcohol', 'frisk_performed',\n",
    "       'reason_for_stop', 'search_conducted']]\n",
    "raw.head()"
   ]
  },
  {
   "cell_type": "markdown",
   "metadata": {
    "id": "G6n1ZKw1pAEG"
   },
   "source": [
    "ต่อไป คือการทำการ drop column \"arrest_made\" ควร drop เรื่องของการถูกจับกุมหลังตรวจค้นยานพาหนะทิ้งไปเนื่องจากเป็นผลที่เกิดหลังจากพบเจอสิ่งผิดกฏหมายโดยใช้ code ดังนี้"
   ]
  },
  {
   "cell_type": "code",
   "execution_count": null,
   "metadata": {
    "colab": {
     "base_uri": "https://localhost:8080/",
     "height": 228
    },
    "id": "MLwICMDImpNq",
    "outputId": "508e6455-45c3-4a0b-ebcc-465e50e8d1ca"
   },
   "outputs": [
    {
     "data": {
      "text/html": [
       "<div>\n",
       "<style scoped>\n",
       "    .dataframe tbody tr th:only-of-type {\n",
       "        vertical-align: middle;\n",
       "    }\n",
       "\n",
       "    .dataframe tbody tr th {\n",
       "        vertical-align: top;\n",
       "    }\n",
       "\n",
       "    .dataframe thead th {\n",
       "        text-align: right;\n",
       "    }\n",
       "</style>\n",
       "<table border=\"1\" class=\"dataframe\">\n",
       "  <thead>\n",
       "    <tr style=\"text-align: right;\">\n",
       "      <th></th>\n",
       "      <th>district</th>\n",
       "      <th>driver_race</th>\n",
       "      <th>driver_gender</th>\n",
       "      <th>citation_issued</th>\n",
       "      <th>warning_issued</th>\n",
       "      <th>contraband_drugs</th>\n",
       "      <th>contraband_weapons</th>\n",
       "      <th>contraband_alcohol</th>\n",
       "      <th>frisk_performed</th>\n",
       "      <th>reason_for_stop</th>\n",
       "      <th>search_conducted</th>\n",
       "    </tr>\n",
       "    <tr>\n",
       "      <th>date_stop_time</th>\n",
       "      <th></th>\n",
       "      <th></th>\n",
       "      <th></th>\n",
       "      <th></th>\n",
       "      <th></th>\n",
       "      <th></th>\n",
       "      <th></th>\n",
       "      <th></th>\n",
       "      <th></th>\n",
       "      <th></th>\n",
       "      <th></th>\n",
       "    </tr>\n",
       "  </thead>\n",
       "  <tbody>\n",
       "    <tr>\n",
       "      <th>2005-11-22 11:15:00</th>\n",
       "      <td>X3</td>\n",
       "      <td>white</td>\n",
       "      <td>male</td>\n",
       "      <td>True</td>\n",
       "      <td>False</td>\n",
       "      <td>False</td>\n",
       "      <td>False</td>\n",
       "      <td>False</td>\n",
       "      <td>False</td>\n",
       "      <td>Speeding</td>\n",
       "      <td>False</td>\n",
       "    </tr>\n",
       "    <tr>\n",
       "      <th>2005-10-01 12:20:00</th>\n",
       "      <td>X3</td>\n",
       "      <td>white</td>\n",
       "      <td>male</td>\n",
       "      <td>True</td>\n",
       "      <td>False</td>\n",
       "      <td>False</td>\n",
       "      <td>False</td>\n",
       "      <td>False</td>\n",
       "      <td>False</td>\n",
       "      <td>Speeding</td>\n",
       "      <td>False</td>\n",
       "    </tr>\n",
       "    <tr>\n",
       "      <th>2005-10-01 12:30:00</th>\n",
       "      <td>X3</td>\n",
       "      <td>white</td>\n",
       "      <td>female</td>\n",
       "      <td>True</td>\n",
       "      <td>False</td>\n",
       "      <td>False</td>\n",
       "      <td>False</td>\n",
       "      <td>False</td>\n",
       "      <td>False</td>\n",
       "      <td>Speeding</td>\n",
       "      <td>False</td>\n",
       "    </tr>\n",
       "    <tr>\n",
       "      <th>2005-10-01 12:50:00</th>\n",
       "      <td>X3</td>\n",
       "      <td>white</td>\n",
       "      <td>male</td>\n",
       "      <td>True</td>\n",
       "      <td>False</td>\n",
       "      <td>False</td>\n",
       "      <td>False</td>\n",
       "      <td>False</td>\n",
       "      <td>False</td>\n",
       "      <td>Speeding</td>\n",
       "      <td>False</td>\n",
       "    </tr>\n",
       "    <tr>\n",
       "      <th>2005-10-01 13:10:00</th>\n",
       "      <td>X3</td>\n",
       "      <td>white</td>\n",
       "      <td>female</td>\n",
       "      <td>True</td>\n",
       "      <td>False</td>\n",
       "      <td>False</td>\n",
       "      <td>False</td>\n",
       "      <td>False</td>\n",
       "      <td>False</td>\n",
       "      <td>Speeding</td>\n",
       "      <td>False</td>\n",
       "    </tr>\n",
       "  </tbody>\n",
       "</table>\n",
       "</div>"
      ],
      "text/plain": [
       "                    district driver_race driver_gender  citation_issued  \\\n",
       "date_stop_time                                                            \n",
       "2005-11-22 11:15:00       X3       white          male             True   \n",
       "2005-10-01 12:20:00       X3       white          male             True   \n",
       "2005-10-01 12:30:00       X3       white        female             True   \n",
       "2005-10-01 12:50:00       X3       white          male             True   \n",
       "2005-10-01 13:10:00       X3       white        female             True   \n",
       "\n",
       "                     warning_issued  contraband_drugs  contraband_weapons  \\\n",
       "date_stop_time                                                              \n",
       "2005-11-22 11:15:00           False             False               False   \n",
       "2005-10-01 12:20:00           False             False               False   \n",
       "2005-10-01 12:30:00           False             False               False   \n",
       "2005-10-01 12:50:00           False             False               False   \n",
       "2005-10-01 13:10:00           False             False               False   \n",
       "\n",
       "                     contraband_alcohol  frisk_performed reason_for_stop  \\\n",
       "date_stop_time                                                             \n",
       "2005-11-22 11:15:00               False            False        Speeding   \n",
       "2005-10-01 12:20:00               False            False        Speeding   \n",
       "2005-10-01 12:30:00               False            False        Speeding   \n",
       "2005-10-01 12:50:00               False            False        Speeding   \n",
       "2005-10-01 13:10:00               False            False        Speeding   \n",
       "\n",
       "                     search_conducted  \n",
       "date_stop_time                         \n",
       "2005-11-22 11:15:00             False  \n",
       "2005-10-01 12:20:00             False  \n",
       "2005-10-01 12:30:00             False  \n",
       "2005-10-01 12:50:00             False  \n",
       "2005-10-01 13:10:00             False  "
      ]
     },
     "execution_count": 169,
     "metadata": {
      "tags": []
     },
     "output_type": "execute_result"
    }
   ],
   "source": [
    "raw.drop('arrest_made', axis=1, inplace= True)\n",
    "raw.head()"
   ]
  },
  {
   "cell_type": "markdown",
   "metadata": {
    "id": "1yrO__TXpnbQ"
   },
   "source": [
    "### ทดลองดึงข้อมูลออกมาดูจากแถวที่ 25 โดยไม่รวมเอา column ที่เป็น Label (ผลลัพธ์) ออกมาด้วย ว่าข้อมูลมีลักษณะอย่างไร"
   ]
  },
  {
   "cell_type": "code",
   "execution_count": null,
   "metadata": {
    "colab": {
     "base_uri": "https://localhost:8080/"
    },
    "id": "D0sedXWwuGfc",
    "outputId": "78b6ad2d-a409-4b32-8707-1f9d3c2b1a6f"
   },
   "outputs": [
    {
     "data": {
      "text/plain": [
       "array(['X3', 'white', 'male', True, False, False, False, False, False,\n",
       "       'Speeding'], dtype=object)"
      ]
     },
     "execution_count": 170,
     "metadata": {
      "tags": []
     },
     "output_type": "execute_result"
    }
   ],
   "source": [
    "raw.iloc[25, :-1].values"
   ]
  },
  {
   "cell_type": "markdown",
   "metadata": {
    "id": "d4u8XjN-pVM2"
   },
   "source": [
    "## ทำการแบ่งชุดข้อมูลให้เป็นส่วนของการ train ของ model และ ส่วน Label ของ model"
   ]
  },
  {
   "cell_type": "markdown",
   "metadata": {
    "id": "YvxIPVyMhmKp"
   },
   "source": [
    "### Splitting the dataset into the Training set and Test set"
   ]
  },
  {
   "cell_type": "code",
   "execution_count": null,
   "metadata": {
    "colab": {
     "base_uri": "https://localhost:8080/"
    },
    "id": "oNso9_tQjpy4",
    "outputId": "4900c0f6-1d65-4ec1-a22f-2910d7c96399"
   },
   "outputs": [
    {
     "name": "stdout",
     "output_type": "stream",
     "text": [
      "X : [['X3' 'white' 'male' ... False False 'Speeding']\n",
      " ['X3' 'white' 'male' ... False False 'Speeding']\n",
      " ['X3' 'white' 'female' ... False False 'Speeding']\n",
      " ...\n",
      " ['K3' 'white' 'female' ... False False 'Speeding']\n",
      " ['X4' 'white' 'male' ... False False 'Equipment/Inspection Violation']\n",
      " ['X4' 'white' 'female' ... False False 'Speeding']]\n",
      "y : [False False False ... False False False]\n",
      "X shape : (480584, 10)\n"
     ]
    }
   ],
   "source": [
    "X = raw.iloc[:, :-1].values\n",
    "y = raw.iloc[:, -1].values\n",
    "print(\"X :\", X)\n",
    "print(\"y :\", y)\n",
    "print(\"X shape :\", X.shape)"
   ]
  },
  {
   "cell_type": "markdown",
   "metadata": {
    "id": "lqitMoZMgrG4"
   },
   "source": [
    "## Encoding the Independent Variable\n"
   ]
  },
  {
   "cell_type": "markdown",
   "metadata": {
    "id": "sWrNxN9ttUcT"
   },
   "source": [
    "### ขั้นตอนนี้เป็นการทำการแปลงข้อมูลของค่า X ที่เป็นข้อมูลไว้สำหรับเป็น Train Model โดยจะแปลงที่ column \"district\", \"driver_race\", \"driver_gender\",\n",
    "\"reason_for_stop\" ที่เป็นข้อมูล Categorical Data ให้แตกเป็น Column ย่อย ๆ\n",
    "และเก็บข้อมูลเป็นแบบ Binary (เก็บค่าที่เป็น 0 หรือ 1 เท่านั้น)\n",
    "\n",
    "โดยปกติเราสามารถใช้ ฟังก์ชั่น getdummy() ได้ แต่ในที่นี้ขอใช้เป็น preprocessing ใน sklearn มาอำนวยความสะดวกในการทำ คือการใช้ ColumnTranformer และ\n",
    "OneHotEncoder\n"
   ]
  },
  {
   "cell_type": "markdown",
   "metadata": {
    "id": "vjLTjq0NvO-f"
   },
   "source": [
    "และจะเห็นได้ว่าหลังจากผ่านกระบวนการนี้ ตัว feature ของค่า X จะมีขนาดเพิ่มจาก 10 เป็น 31 features"
   ]
  },
  {
   "cell_type": "code",
   "execution_count": null,
   "metadata": {
    "id": "fsoqNZ1DgqJ1"
   },
   "outputs": [],
   "source": [
    "from sklearn.compose import ColumnTransformer\n",
    "from sklearn.preprocessing import OneHotEncoder\n",
    "ct = ColumnTransformer(transformers=[('encoder', OneHotEncoder(), [0,1,2,9])], remainder='passthrough')\n",
    "X = np.array(ct.fit_transform(X))"
   ]
  },
  {
   "cell_type": "code",
   "execution_count": null,
   "metadata": {
    "id": "Pd5H0yOK9rPb",
    "outputId": "6a155032-5bc1-4e8b-c23d-c5fce126d939"
   },
   "outputs": [
    {
     "data": {
      "text/plain": [
       "31"
      ]
     },
     "execution_count": 173,
     "metadata": {
      "tags": []
     },
     "output_type": "execute_result"
    }
   ],
   "source": [
    "len(ct.get_feature_names())"
   ]
  },
  {
   "cell_type": "code",
   "execution_count": null,
   "metadata": {
    "id": "lgDrpCf29rPc",
    "outputId": "3853e7ab-432b-47c5-bf87-af7b5dfea0c2"
   },
   "outputs": [
    {
     "data": {
      "text/plain": [
       "['encoder__x0_K1',\n",
       " 'encoder__x0_K2',\n",
       " 'encoder__x0_K3',\n",
       " 'encoder__x0_X1',\n",
       " 'encoder__x0_X3',\n",
       " 'encoder__x0_X4',\n",
       " 'encoder__x1_asian/pacific islander',\n",
       " 'encoder__x1_black',\n",
       " 'encoder__x1_hispanic',\n",
       " 'encoder__x1_other',\n",
       " 'encoder__x1_white',\n",
       " 'encoder__x2_female',\n",
       " 'encoder__x2_male',\n",
       " 'encoder__x3_APB',\n",
       " 'encoder__x3_Call for Service',\n",
       " 'encoder__x3_Equipment/Inspection Violation',\n",
       " 'encoder__x3_Motorist Assist/Courtesy',\n",
       " 'encoder__x3_Other Traffic Violation',\n",
       " 'encoder__x3_Registration Violation',\n",
       " 'encoder__x3_Seatbelt Violation',\n",
       " 'encoder__x3_Special Detail/Directed Patrol',\n",
       " 'encoder__x3_Speeding',\n",
       " 'encoder__x3_Suspicious Person',\n",
       " 'encoder__x3_Violation of City/Town Ordinance',\n",
       " 'encoder__x3_Warrant',\n",
       " 'x3',\n",
       " 'x4',\n",
       " 'x5',\n",
       " 'x6',\n",
       " 'x7',\n",
       " 'x8']"
      ]
     },
     "execution_count": 175,
     "metadata": {
      "tags": []
     },
     "output_type": "execute_result"
    }
   ],
   "source": [
    "ct.get_feature_names()"
   ]
  },
  {
   "cell_type": "code",
   "execution_count": null,
   "metadata": {
    "colab": {
     "base_uri": "https://localhost:8080/"
    },
    "id": "YUAvNC7ei0so",
    "outputId": "75aa4d68-fd8e-4095-e873-f33f79e9b58d"
   },
   "outputs": [
    {
     "name": "stdout",
     "output_type": "stream",
     "text": [
      "[[0.0 0.0 0.0 ... False False False]\n",
      " [0.0 0.0 0.0 ... False False False]\n",
      " [0.0 0.0 0.0 ... False False False]\n",
      " ...\n",
      " [0.0 0.0 1.0 ... False False False]\n",
      " [0.0 0.0 0.0 ... False False False]\n",
      " [0.0 0.0 0.0 ... False False False]]\n",
      "(480584, 31)\n"
     ]
    }
   ],
   "source": [
    "print(X)\n",
    "print(X.shape)"
   ]
  },
  {
   "cell_type": "markdown",
   "metadata": {
    "id": "Sw2BoH5Pvc0Q"
   },
   "source": [
    "ทดลองดึง row ที่ 25 เช่นเดิมเพื่อดูว่าข้อมูลเป็นอย่างไรหลังจากทำผ่านการใช้ OneHotencoder ลองนำไปเทียบกับ row ที่ 25  ที่เราดึงจากตารางก่อนผ่านกระบวนการดูได้"
   ]
  },
  {
   "cell_type": "code",
   "execution_count": null,
   "metadata": {
    "colab": {
     "base_uri": "https://localhost:8080/"
    },
    "id": "KV-zAD1ntgEu",
    "outputId": "da405895-bfee-4330-8723-805a859a9b71"
   },
   "outputs": [
    {
     "name": "stdout",
     "output_type": "stream",
     "text": [
      "[0.0 0.0 0.0 0.0 1.0 0.0 0.0 0.0 0.0 0.0 1.0 0.0 1.0 0.0 0.0 0.0 0.0 0.0\n",
      " 0.0 0.0 0.0 1.0 0.0 0.0 0.0 True False False False False False]\n",
      "(31,)\n"
     ]
    }
   ],
   "source": [
    "print(X[25])\n",
    "print(X[25].shape)"
   ]
  },
  {
   "cell_type": "markdown",
   "metadata": {
    "id": "qCMqSwtLiOrw"
   },
   "source": [
    "## Encoding the Dependent Variable"
   ]
  },
  {
   "cell_type": "markdown",
   "metadata": {
    "id": "X3QlobSPugq5"
   },
   "source": [
    " ขั้นตอนนี้เป็นการทำการแปลงข้อมูลของค่า y ที่เป็นข้อมูลไว้สำหรับเป็น Label model จากเดิมเป็นค่า boolean คือ True, False ให้เป็นค่า Binary (คือ 0 และ 1) โดยที่ 0 คือการไม่โดนตรวจค้นยานพาหนะ และ 1 คือโดนตรวจค้นยานพาหนะ"
   ]
  },
  {
   "cell_type": "code",
   "execution_count": null,
   "metadata": {
    "id": "rkUxEW_ZiRek"
   },
   "outputs": [],
   "source": [
    "from sklearn.preprocessing import LabelEncoder\n",
    "le = LabelEncoder()\n",
    "y = le.fit_transform(y)"
   ]
  },
  {
   "cell_type": "code",
   "execution_count": null,
   "metadata": {
    "colab": {
     "base_uri": "https://localhost:8080/"
    },
    "id": "ILNOL-WSiW74",
    "outputId": "796fa452-fa5b-46b0-b8ca-e4bc80f0fdde"
   },
   "outputs": [
    {
     "name": "stdout",
     "output_type": "stream",
     "text": [
      "[0 0 0 ... 0 0 0]\n",
      "(480584,)\n"
     ]
    }
   ],
   "source": [
    "print(y)\n",
    "print(y.shape)"
   ]
  },
  {
   "cell_type": "markdown",
   "metadata": {
    "id": "yp82hQchxjkZ"
   },
   "source": [
    " ทำการแยกส่วนของ Training set และ Test set ด้วยการใช้ ฟังก์ชั่น train_test_split ในที่นี้ใช้ test_size 20 เปอร์เซ็นต์ของข้อมูลที่มี 80 เปอร์เซ็นต์ใช้ในการ train model"
   ]
  },
  {
   "cell_type": "markdown",
   "metadata": {
    "id": "_H9rjlCuyKVR"
   },
   "source": [
    "และลอง print ค่าของ X_train, X_test , y_train, y_test ออกมาดู และ ขนาดของค่าต่างๆ ก็สำคัญ ไว้ดูว่า มี feature ที่ป้อนไปถูกต้องเท่ากันหรือไม่ เมื่อมีปัญหามาดูในภายหลังจะง่ายต่อการหาวิธีการแก้ไข"
   ]
  },
  {
   "cell_type": "code",
   "execution_count": null,
   "metadata": {
    "id": "HYdqsWbwoJgp"
   },
   "outputs": [],
   "source": [
    "from sklearn.model_selection import train_test_split\n",
    "X_train, X_test , y_train, y_test = train_test_split(X,y, test_size=0.20, random_state= 1)"
   ]
  },
  {
   "cell_type": "code",
   "execution_count": null,
   "metadata": {
    "colab": {
     "base_uri": "https://localhost:8080/"
    },
    "id": "qrpF254npXH5",
    "outputId": "e15ead9a-a1a7-4bea-e835-dd9dd3c3cd71"
   },
   "outputs": [
    {
     "name": "stdout",
     "output_type": "stream",
     "text": [
      "[[0.0 0.0 1.0 ... False False False]\n",
      " [0.0 0.0 0.0 ... False False False]\n",
      " [0.0 0.0 0.0 ... False False False]\n",
      " ...\n",
      " [0.0 0.0 1.0 ... False False False]\n",
      " [0.0 1.0 0.0 ... False False False]\n",
      " [0.0 1.0 0.0 ... False False False]]\n",
      "X_train shape : (384467, 31)\n"
     ]
    }
   ],
   "source": [
    "print(X_train)\n",
    "print(\"X_train shape :\", X_train.shape)"
   ]
  },
  {
   "cell_type": "code",
   "execution_count": null,
   "metadata": {
    "colab": {
     "base_uri": "https://localhost:8080/"
    },
    "id": "OUTapD6epcRt",
    "outputId": "81ef3d65-2ad6-4430-c9d9-7d8bf532d0b8"
   },
   "outputs": [
    {
     "name": "stdout",
     "output_type": "stream",
     "text": [
      "[[0.0 0.0 0.0 ... False False False]\n",
      " [0.0 0.0 0.0 ... False False False]\n",
      " [0.0 0.0 1.0 ... False False False]\n",
      " ...\n",
      " [0.0 0.0 0.0 ... False False False]\n",
      " [0.0 0.0 0.0 ... False False False]\n",
      " [0.0 1.0 0.0 ... False False False]]\n",
      "X_test shape : (96117, 31)\n"
     ]
    }
   ],
   "source": [
    "print(X_test)\n",
    "print(\"X_test shape :\", X_test.shape)"
   ]
  },
  {
   "cell_type": "code",
   "execution_count": null,
   "metadata": {
    "colab": {
     "base_uri": "https://localhost:8080/"
    },
    "id": "NFzVpyviisWC",
    "outputId": "e436ee89-62b7-4d21-8c7a-d7a8f28bf90a"
   },
   "outputs": [
    {
     "name": "stdout",
     "output_type": "stream",
     "text": [
      "[0 0 0 ... 0 0 0]\n",
      "y_train shape : (384467,)\n"
     ]
    }
   ],
   "source": [
    "print(y_train)\n",
    "print(\"y_train shape :\", y_train.shape)"
   ]
  },
  {
   "cell_type": "code",
   "execution_count": null,
   "metadata": {
    "colab": {
     "base_uri": "https://localhost:8080/"
    },
    "id": "3aee4B_vpcY8",
    "outputId": "d406cf62-5b7b-4671-ab77-b12bc50282fd"
   },
   "outputs": [
    {
     "name": "stdout",
     "output_type": "stream",
     "text": [
      "[0 0 0 ... 0 0 0]\n",
      "y_test shape : (96117,)\n"
     ]
    }
   ],
   "source": [
    "print(y_test)\n",
    "print(\"y_test shape :\", y_test.shape)"
   ]
  },
  {
   "cell_type": "markdown",
   "metadata": {
    "id": "ZHnWWsTj2H72"
   },
   "source": [
    "จากขนาดของข้อมูลแต่ละคู่ จะเห็นว่าจำนวน row ของ ตัวข้อมูลที่คู่กันระหว่าง X_train และ y_train นั้นเท่ากัน เช่นเดียวกับคู่ของ X_test และ y_test "
   ]
  },
  {
   "cell_type": "markdown",
   "metadata": {
    "id": "5ONUcbPMeRlH"
   },
   "source": [
    "## 1. จัดการ Imbalance Data ด้วยวิธีต่างๆดังนี้  \n",
    "\n",
    "\n",
    "> Random undersampling\n",
    "\n",
    "> Ensamble resampling  \n",
    "\n",
    "\n",
    "\n",
    "\n",
    "\n",
    "\n",
    "> Class re-weight\n",
    "\n",
    "\n",
    "\n"
   ]
  },
  {
   "cell_type": "markdown",
   "metadata": {
    "id": "o6NxlJmTegiC"
   },
   "source": [
    "Random Undersampling  \n",
    "from picture blue is class 1 data(search_conduct)  and Red is class 0 (seach_conduct not occur) "
   ]
  },
  {
   "cell_type": "markdown",
   "metadata": {
    "id": "5GPb1ImGWroe"
   },
   "source": [
    "![RandomUndersamplingPic.png](data:image/png;base64,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)"
   ]
  },
  {
   "cell_type": "code",
   "execution_count": null,
   "metadata": {
    "id": "hx4LCEroekOQ"
   },
   "outputs": [],
   "source": [
    "from imblearn.under_sampling import RandomUnderSampler\n",
    "\n",
    "rus = RandomUnderSampler(replacement=False)\n",
    "X_train_subsample, y_train_subsample = rus.fit_resample(X_train, y_train)"
   ]
  },
  {
   "cell_type": "markdown",
   "metadata": {
    "id": "U32lafH0Vcfp"
   },
   "source": [
    "ลองดูจำนวนของ data ที่ทำการ random undersampling จะเห็นว่าข้อมูลชุดที่ออกมาใช้ class 1 data(search_conduct)  and Red is class 0 (seach_conduct not occur) เท่ากัน เป็น balance data คือจำนวนที่ถูกตรวจค้นภายในรถเป็น 14193 คัน และ จำนวนที่ไม่ถูกตรวจค้นภายในรถเป็น 14193 คัน เท่ากันตาม code ที่แสดงข้างล่าง"
   ]
  },
  {
   "cell_type": "code",
   "execution_count": null,
   "metadata": {
    "colab": {
     "base_uri": "https://localhost:8080/"
    },
    "id": "xfcUcExNVGzr",
    "outputId": "1f69b36b-c949-46ee-fe10-1d47ebc7148f"
   },
   "outputs": [
    {
     "name": "stdout",
     "output_type": "stream",
     "text": [
      "(384467, 31)\n",
      "(28386, 31)\n",
      "[14193 14193]\n",
      "[14193 14193]\n"
     ]
    }
   ],
   "source": [
    "print(X_train.shape)\n",
    "print(X_train_subsample.shape)\n",
    "print(np.bincount(y_train_subsample))\n",
    "\n",
    "y_train_subsample_unique, y_train_subsample_counts = np.unique(y_train_subsample, return_counts=True)\n",
    "print(y_train_subsample_counts)"
   ]
  },
  {
   "cell_type": "markdown",
   "metadata": {
    "id": "kW3c7UYih0hT"
   },
   "source": [
    "## Feature Scaling  \n",
    "\n",
    "\n",
    "> ทำทั้งในชุด data ที่ imbalance และ balance แล้วเพื่อในตอนสุดท้ายจะนำมาเปรียบเทียบกัน\n",
    "\n"
   ]
  },
  {
   "cell_type": "markdown",
   "metadata": {
    "id": "BNBIFSSS2rMV"
   },
   "source": [
    " \n",
    "\n",
    "> การทำ Scaling ช่วยเพิ่มประสิทธิภาพให้กับการ train model ได้ การทำการ scaling ทำที่ขั้นตอนหลังจากแยกชุดข้อมูล ระหว่าง test และ train แล้วเพื่อป้องกันการรั่วของข้อมูล หรือ data leakage\n",
    "\n"
   ]
  },
  {
   "cell_type": "markdown",
   "metadata": {
    "id": "308mKKTt30t4"
   },
   "source": [
    "\n",
    "\n",
    "> และเช่นเดิม ลอง print ค่าของ X_train, X_test ออกมาดู และ ขนาดของค่าต่างๆ ก็สำคัญ\n",
    "\n"
   ]
  },
  {
   "cell_type": "code",
   "execution_count": null,
   "metadata": {
    "id": "oW4Wt_XcowIo"
   },
   "outputs": [],
   "source": [
    "from sklearn.preprocessing import StandardScaler\n",
    "sc = StandardScaler()\n",
    "X_train = sc.fit_transform(X_train)\n",
    "X_test = sc.fit_transform(X_test)\n",
    "\n",
    "X_train_subsample = sc.fit_transform(X_train_subsample)"
   ]
  },
  {
   "cell_type": "markdown",
   "metadata": {
    "id": "jmShNTBzdaoV"
   },
   "source": [
    "\n",
    "\n",
    "> จะเห็นได้ว่า X_train_subsample ได้เท่ากับ จำนวนที่ทำ random undersampling ไว้แสดงว่าถูกต้อง\n",
    "\n"
   ]
  },
  {
   "cell_type": "code",
   "execution_count": null,
   "metadata": {
    "colab": {
     "base_uri": "https://localhost:8080/"
    },
    "id": "tTE3XIhFpub4",
    "outputId": "86866baf-555a-4a9b-a453-eab1b750637b"
   },
   "outputs": [
    {
     "name": "stdout",
     "output_type": "stream",
     "text": [
      "(384467, 31)\n",
      "(28386, 31)\n",
      "(96117, 31)\n"
     ]
    }
   ],
   "source": [
    "print(X_train.shape)\n",
    "print(X_train_subsample.shape)\n",
    "print(X_test.shape)"
   ]
  },
  {
   "cell_type": "markdown",
   "metadata": {
    "id": "c3dPVG9h4Us3"
   },
   "source": [
    "จากขนาดของข้อมูลแต่ละคู่ จะเห็นว่าจำนวน feature ยังเท่าเดิมคือ31 และจำนวน row ยังเท่าเดิมกับก่อนหน้าการทำ scaling ทั้งของ X_train, X_train_subsample และ X_test"
   ]
  },
  {
   "cell_type": "code",
   "execution_count": null,
   "metadata": {
    "id": "DtQVVaFO_ceU"
   },
   "outputs": [],
   "source": [
    "# stop run all with print error\n",
    "print(ttttt)"
   ]
  },
  {
   "cell_type": "markdown",
   "metadata": {
    "id": "8wFaUzXZBtJG"
   },
   "source": [
    "## Training model on Logistic Classification, SVC, random forrest, and  XGBOOST classification"
   ]
  },
  {
   "cell_type": "markdown",
   "metadata": {
    "id": "mwzFgBCnf47n"
   },
   "source": [
    "Logistic Classification"
   ]
  },
  {
   "cell_type": "code",
   "execution_count": null,
   "metadata": {
    "colab": {
     "base_uri": "https://localhost:8080/"
    },
    "id": "QsUMq8SChl4q",
    "outputId": "31f15ede-9bbd-40e8-db64-13207a767001"
   },
   "outputs": [
    {
     "data": {
      "text/plain": [
       "(0.9372009824166326, 0.797715237585076)"
      ]
     },
     "execution_count": 50,
     "metadata": {
      "tags": []
     },
     "output_type": "execute_result"
    }
   ],
   "source": [
    "from sklearn.model_selection import cross_validate\n",
    "from sklearn.linear_model import LogisticRegression\n",
    "\n",
    "scores = cross_validate(LogisticRegression(),\n",
    "                        X_train, y_train, cv=5, scoring=('roc_auc', 'average_precision'))\n",
    "scores['test_roc_auc'].mean(), scores['test_average_precision'].mean()"
   ]
  },
  {
   "cell_type": "markdown",
   "metadata": {
    "id": "KT5pnc7P9rPp"
   },
   "source": [
    "Logistic Classification with Random Undersampling (subsample)"
   ]
  },
  {
   "cell_type": "code",
   "execution_count": null,
   "metadata": {
    "id": "S8kCdVot9rPp",
    "outputId": "45e02749-a34e-4df3-b4f0-38b141371059"
   },
   "outputs": [
    {
     "name": "stderr",
     "output_type": "stream",
     "text": [
      "[Parallel(n_jobs=1)]: Using backend SequentialBackend with 1 concurrent workers.\n",
      "[Parallel(n_jobs=1)]: Done   1 out of   1 | elapsed:    0.0s finished\n",
      "[Parallel(n_jobs=1)]: Using backend SequentialBackend with 1 concurrent workers.\n",
      "[Parallel(n_jobs=1)]: Done   1 out of   1 | elapsed:    0.0s finished\n",
      "[Parallel(n_jobs=1)]: Using backend SequentialBackend with 1 concurrent workers.\n",
      "[Parallel(n_jobs=1)]: Done   1 out of   1 | elapsed:    0.0s finished\n",
      "[Parallel(n_jobs=1)]: Using backend SequentialBackend with 1 concurrent workers.\n",
      "[Parallel(n_jobs=1)]: Done   1 out of   1 | elapsed:    0.0s finished\n",
      "[Parallel(n_jobs=1)]: Using backend SequentialBackend with 1 concurrent workers.\n",
      "[Parallel(n_jobs=1)]: Done   1 out of   1 | elapsed:    0.0s finished\n"
     ]
    },
    {
     "data": {
      "text/plain": [
       "(0.9386701127299576, 0.9537929481940459)"
      ]
     },
     "execution_count": 31,
     "metadata": {
      "tags": []
     },
     "output_type": "execute_result"
    }
   ],
   "source": [
    "scores = cross_validate(LogisticRegression(verbose=1),\n",
    "                        X_train_subsample, y_train_subsample, cv=5, scoring=('roc_auc', 'average_precision'))\n",
    "scores['test_roc_auc'].mean(), scores['test_average_precision'].mean()"
   ]
  },
  {
   "cell_type": "markdown",
   "metadata": {
    "id": "qlWLDMSTB8di"
   },
   "source": [
    "SVC with Random Undersampling #use high cost and time, unpractical to use"
   ]
  },
  {
   "cell_type": "code",
   "execution_count": null,
   "metadata": {
    "id": "VqFtdvCUB97Z",
    "outputId": "cab1c0f0-966e-466e-9700-06a03f9751e7"
   },
   "outputs": [
    {
     "name": "stdout",
     "output_type": "stream",
     "text": [
      "[LibSVM][LibSVM][LibSVM][LibSVM][LibSVM]"
     ]
    },
    {
     "data": {
      "text/plain": [
       "(0.9071072595579756, 0.9368090289099562)"
      ]
     },
     "execution_count": 32,
     "metadata": {
      "tags": []
     },
     "output_type": "execute_result"
    }
   ],
   "source": [
    "from sklearn.svm import SVC\n",
    "\n",
    "scores = cross_validate(SVC(kernel='rbf', verbose=True),\n",
    "                        X_train_subsample, y_train_subsample, cv=5, scoring=('roc_auc', 'average_precision'))\n",
    "scores['test_roc_auc'].mean(), scores['test_average_precision'].mean()"
   ]
  },
  {
   "cell_type": "markdown",
   "metadata": {
    "id": "Dm1HeiHtgAqm"
   },
   "source": [
    "\n",
    "RandomForrest classification"
   ]
  },
  {
   "cell_type": "code",
   "execution_count": null,
   "metadata": {
    "colab": {
     "base_uri": "https://localhost:8080/"
    },
    "id": "SYjFUrjKgJxW",
    "outputId": "5b6f65f9-c7f6-4b74-f52a-321d6119da2d"
   },
   "outputs": [
    {
     "data": {
      "text/plain": [
       "(0.9345992751102754, 0.8013190932881307)"
      ]
     },
     "execution_count": 33,
     "metadata": {
      "tags": []
     },
     "output_type": "execute_result"
    }
   ],
   "source": [
    "from sklearn.ensemble import RandomForestClassifier\n",
    "scores = cross_validate(RandomForestClassifier(n_estimators=100),\n",
    "                        X_train, y_train, cv=5, scoring=('roc_auc', 'average_precision'))\n",
    "scores['test_roc_auc'].mean(), scores['test_average_precision'].mean()"
   ]
  },
  {
   "cell_type": "markdown",
   "metadata": {
    "id": "hfUH3p_w9rPr"
   },
   "source": [
    "RandomForrest classification with Random Undersampling (subsample)"
   ]
  },
  {
   "cell_type": "code",
   "execution_count": null,
   "metadata": {
    "colab": {
     "base_uri": "https://localhost:8080/"
    },
    "id": "_SRojt66mxrw",
    "outputId": "1d8fbad4-0b91-4ca5-b63d-6412b81fd539"
   },
   "outputs": [
    {
     "data": {
      "text/plain": [
       "(0.9365660720899847, 0.9520531743729025)"
      ]
     },
     "execution_count": 34,
     "metadata": {
      "tags": []
     },
     "output_type": "execute_result"
    }
   ],
   "source": [
    "scores = cross_validate(RandomForestClassifier(n_estimators=100),\n",
    "                        X_train_subsample, y_train_subsample, cv=5, scoring=('roc_auc', 'average_precision'))\n",
    "scores['test_roc_auc'].mean(), scores['test_average_precision'].mean()"
   ]
  },
  {
   "cell_type": "markdown",
   "metadata": {
    "id": "tQ0WsUTJhLNa"
   },
   "source": [
    "XGBOOST classification"
   ]
  },
  {
   "cell_type": "code",
   "execution_count": null,
   "metadata": {
    "id": "a_B87cVLa8cO"
   },
   "outputs": [],
   "source": [
    "from xgboost import XGBClassifier\n",
    "\n",
    "scores = cross_validate(XGBClassifier(),\n",
    "                        X_train, y_train, cv=5, scoring=('roc_auc', 'average_precision'))\n",
    "# scores = cross_validate(XGBClassifier(learning_rate =0.1,\n",
    "#                   n_estimators=10,\n",
    "#                   max_depth=4,\n",
    "#                   min_child_weight=6,\n",
    "#                   gamma=0,\n",
    "#                   subsample=0.8,\n",
    "#                   colsample_bytree=0.8,\n",
    "#                   objective= 'binary:logistic',\n",
    "#                   nthread=4,\n",
    "#                   scale_pos_weight=1,\n",
    "#                   seed=27),\n",
    "#                         X_train, y_train, cv=10, scoring=('roc_auc', 'average_precision'))\n",
    "scores['test_roc_auc'].mean(), scores['test_average_precision'].mean()"
   ]
  },
  {
   "cell_type": "code",
   "execution_count": null,
   "metadata": {
    "id": "gL_rwdJs9rPr"
   },
   "outputs": [],
   "source": [
    "# clear too long output"
   ]
  },
  {
   "cell_type": "code",
   "execution_count": null,
   "metadata": {
    "id": "ltwcvOQQ9rPr",
    "outputId": "b0155cb1-fd59-478f-e08a-30b8c5cea507"
   },
   "outputs": [
    {
     "data": {
      "text/plain": [
       "(0.9394461386172781, 0.8039781254145721)"
      ]
     },
     "execution_count": 37,
     "metadata": {
      "tags": []
     },
     "output_type": "execute_result"
    }
   ],
   "source": [
    "scores['test_roc_auc'].mean(), scores['test_average_precision'].mean()"
   ]
  },
  {
   "cell_type": "markdown",
   "metadata": {
    "id": "rToOLgA49rPs"
   },
   "source": [
    "XGBOOST classification with Random Undersampling (subsample)"
   ]
  },
  {
   "cell_type": "code",
   "execution_count": null,
   "metadata": {
    "id": "OvfD0g8xeYcJ"
   },
   "outputs": [],
   "source": [
    "scores = cross_validate(XGBClassifier(),\n",
    "                        X_train_subsample, y_train_subsample, cv=5, scoring=('roc_auc', 'average_precision'))\n",
    "scores['test_roc_auc'].mean(), scores['test_average_precision'].mean()"
   ]
  },
  {
   "cell_type": "code",
   "execution_count": null,
   "metadata": {
    "id": "GERTu77w9rPs"
   },
   "outputs": [],
   "source": [
    "# clear too long output"
   ]
  },
  {
   "cell_type": "code",
   "execution_count": null,
   "metadata": {
    "id": "i77e3HCd9rPs",
    "outputId": "c570aec6-d3bc-4a57-ecd6-24d09c50af18",
    "tags": []
   },
   "outputs": [
    {
     "data": {
      "text/plain": [
       "(0.9393616895513006, 0.9543401946226779)"
      ]
     },
     "execution_count": 39,
     "metadata": {
      "tags": []
     },
     "output_type": "execute_result"
    }
   ],
   "source": [
    "scores['test_roc_auc'].mean(), scores['test_average_precision'].mean()"
   ]
  },
  {
   "cell_type": "markdown",
   "metadata": {
    "id": "jIeOP0_l9rPs"
   },
   "source": [
    "XGBOOST classification with Random Undersampling (subsample) + Feature selection with Recursive Feature Elimination:RFE\n"
   ]
  },
  {
   "cell_type": "code",
   "execution_count": null,
   "metadata": {
    "id": "G0VloB_l9rPt",
    "outputId": "6f868d5d-eb96-4763-ddb8-da9a3b9d24a7"
   },
   "outputs": [
    {
     "name": "stdout",
     "output_type": "stream",
     "text": [
      "Wall time: 3min\n"
     ]
    },
    {
     "data": {
      "text/plain": [
       "RFECV(cv=5, estimator=LogisticRegressionCV())"
      ]
     },
     "execution_count": 84,
     "metadata": {
      "tags": []
     },
     "output_type": "execute_result"
    }
   ],
   "source": [
    "%%time\n",
    "from sklearn.feature_selection import RFECV\n",
    "from xgboost import XGBClassifier\n",
    "from sklearn.linear_model import LogisticRegressionCV\n",
    "\n",
    "\n",
    "rfe = RFECV(LogisticRegressionCV(), cv=5)\n",
    "# rfe = RFECV(XGBClassifier(use_label_encoder=False), cv=5)\n",
    "rfe.fit(X_train_subsample, y_train_subsample) #, eval_metric='logloss')"
   ]
  },
  {
   "cell_type": "code",
   "execution_count": null,
   "metadata": {
    "id": "dT-oIPoG9rPt",
    "outputId": "df2c178b-b07a-40e5-d285-77e79b08d951"
   },
   "outputs": [
    {
     "name": "stdout",
     "output_type": "stream",
     "text": [
      "[False False False False False False False False False False False False\n",
      " False False False False False False False False False  True False False\n",
      " False  True  True  True  True  True  True]\n",
      "7\n",
      "[16 17  8  6 23 18 20  3  2 22 15  9  5 14 21 11 13 10  4 19  7  1 12 25\n",
      " 24  1  1  1  1  1  1]\n"
     ]
    }
   ],
   "source": [
    "print(rfe.support_)\n",
    "print(rfe.n_features_)\n",
    "print(rfe.ranking_)"
   ]
  },
  {
   "cell_type": "markdown",
   "metadata": {
    "id": "yHd97dyF9rPt"
   },
   "source": [
    "เลือกใช้ 7 features จาก 31 features\n",
    "และลองนำไป cross_validate ดูจะเห็นว่า ได้ average_precision น้อยกว่าแบบไม่ทำ feature selection"
   ]
  },
  {
   "cell_type": "code",
   "execution_count": null,
   "metadata": {
    "id": "R1kSVGgk9rPt",
    "outputId": "547727e3-911a-4bfb-98b4-90b7b9193285"
   },
   "outputs": [
    {
     "name": "stdout",
     "output_type": "stream",
     "text": [
      "[17:33:32] WARNING: C:/Users/Administrator/workspace/xgboost-win64_release_1.3.0/src/learner.cc:1061: Starting in XGBoost 1.3.0, the default evaluation metric used with the objective 'binary:logistic' was changed from 'error' to 'logloss'. Explicitly set eval_metric if you'd like to restore the old behavior.\n",
      "[17:36:03] WARNING: C:/Users/Administrator/workspace/xgboost-win64_release_1.3.0/src/learner.cc:1061: Starting in XGBoost 1.3.0, the default evaluation metric used with the objective 'binary:logistic' was changed from 'error' to 'logloss'. Explicitly set eval_metric if you'd like to restore the old behavior.\n",
      "[17:38:25] WARNING: C:/Users/Administrator/workspace/xgboost-win64_release_1.3.0/src/learner.cc:1061: Starting in XGBoost 1.3.0, the default evaluation metric used with the objective 'binary:logistic' was changed from 'error' to 'logloss'. Explicitly set eval_metric if you'd like to restore the old behavior.\n",
      "[17:40:56] WARNING: C:/Users/Administrator/workspace/xgboost-win64_release_1.3.0/src/learner.cc:1061: Starting in XGBoost 1.3.0, the default evaluation metric used with the objective 'binary:logistic' was changed from 'error' to 'logloss'. Explicitly set eval_metric if you'd like to restore the old behavior.\n",
      "[17:43:27] WARNING: C:/Users/Administrator/workspace/xgboost-win64_release_1.3.0/src/learner.cc:1061: Starting in XGBoost 1.3.0, the default evaluation metric used with the objective 'binary:logistic' was changed from 'error' to 'logloss'. Explicitly set eval_metric if you'd like to restore the old behavior.\n",
      "Wall time: 12min 8s\n"
     ]
    },
    {
     "data": {
      "text/plain": [
       "(0.9356050902031642, 0.9475802783423903)"
      ]
     },
     "execution_count": 51,
     "metadata": {
      "tags": []
     },
     "output_type": "execute_result"
    }
   ],
   "source": [
    "%%time\n",
    "from sklearn.model_selection import cross_validate\n",
    "from sklearn.pipeline import make_pipeline\n",
    "\n",
    "pipe_rfe_xgb = make_pipeline(StandardScaler(), RFECV(LogisticRegressionCV(), cv=5), XGBClassifier(use_label_encoder=False))\n",
    "# np.mean(cross_val_score(pipe_rfe_xgb, X_train_subsample, y_train_subsample, cv=5))\n",
    "scores = cross_validate(pipe_rfe_xgb,\n",
    "                        X_train_subsample, y_train_subsample, cv=5, scoring=('roc_auc', 'average_precision'))\n",
    "scores['test_roc_auc'].mean(), scores['test_average_precision'].mean()"
   ]
  },
  {
   "cell_type": "markdown",
   "metadata": {
    "id": "l8RJOkFQ9rPt"
   },
   "source": [
    "ลองใช้ Feature Selcection จาก mlxtend.feature_selection.SequentialFeatureSelector"
   ]
  },
  {
   "cell_type": "code",
   "execution_count": null,
   "metadata": {
    "id": "-QgCraUQ9rPu",
    "outputId": "955d3860-4c04-44b1-e921-cb384ce44d6e"
   },
   "outputs": [
    {
     "name": "stdout",
     "output_type": "stream",
     "text": [
      "Collecting mlxtend\n",
      "  Downloading mlxtend-0.18.0-py2.py3-none-any.whl (1.3 MB)\n",
      "Requirement already satisfied: numpy>=1.16.2 in c:\\users\\t_tan\\anaconda3\\envs\\tf2.4\\lib\\site-packages (from mlxtend) (1.20.1)\n",
      "Requirement already satisfied: joblib>=0.13.2 in c:\\users\\t_tan\\anaconda3\\envs\\tf2.4\\lib\\site-packages (from mlxtend) (1.0.1)\n",
      "Requirement already satisfied: setuptools in c:\\users\\t_tan\\anaconda3\\envs\\tf2.4\\lib\\site-packages (from mlxtend) (52.0.0.post20210125)\n",
      "Requirement already satisfied: scipy>=1.2.1 in c:\\users\\t_tan\\anaconda3\\envs\\tf2.4\\lib\\site-packages (from mlxtend) (1.6.2)\n",
      "Requirement already satisfied: pandas>=0.24.2 in c:\\users\\t_tan\\anaconda3\\envs\\tf2.4\\lib\\site-packages (from mlxtend) (1.2.3)\n",
      "Requirement already satisfied: matplotlib>=3.0.0 in c:\\users\\t_tan\\anaconda3\\envs\\tf2.4\\lib\\site-packages (from mlxtend) (3.3.4)\n",
      "Requirement already satisfied: scikit-learn>=0.20.3 in c:\\users\\t_tan\\anaconda3\\envs\\tf2.4\\lib\\site-packages (from mlxtend) (0.24.1)\n",
      "Requirement already satisfied: python-dateutil>=2.1 in c:\\users\\t_tan\\anaconda3\\envs\\tf2.4\\lib\\site-packages (from matplotlib>=3.0.0->mlxtend) (2.8.1)\n",
      "Requirement already satisfied: pyparsing!=2.0.4,!=2.1.2,!=2.1.6,>=2.0.3 in c:\\users\\t_tan\\anaconda3\\envs\\tf2.4\\lib\\site-packages (from matplotlib>=3.0.0->mlxtend) (2.4.7)\n",
      "Requirement already satisfied: cycler>=0.10 in c:\\users\\t_tan\\anaconda3\\envs\\tf2.4\\lib\\site-packages (from matplotlib>=3.0.0->mlxtend) (0.10.0)\n",
      "Requirement already satisfied: kiwisolver>=1.0.1 in c:\\users\\t_tan\\anaconda3\\envs\\tf2.4\\lib\\site-packages (from matplotlib>=3.0.0->mlxtend) (1.3.1)\n",
      "Requirement already satisfied: pillow>=6.2.0 in c:\\users\\t_tan\\anaconda3\\envs\\tf2.4\\lib\\site-packages (from matplotlib>=3.0.0->mlxtend) (8.1.2)\n",
      "Requirement already satisfied: six in c:\\users\\t_tan\\anaconda3\\envs\\tf2.4\\lib\\site-packages (from cycler>=0.10->matplotlib>=3.0.0->mlxtend) (1.15.0)\n",
      "Requirement already satisfied: pytz>=2017.3 in c:\\users\\t_tan\\anaconda3\\envs\\tf2.4\\lib\\site-packages (from pandas>=0.24.2->mlxtend) (2021.1)\n",
      "Requirement already satisfied: threadpoolctl>=2.0.0 in c:\\users\\t_tan\\anaconda3\\envs\\tf2.4\\lib\\site-packages (from scikit-learn>=0.20.3->mlxtend) (2.1.0)\n",
      "Installing collected packages: mlxtend\n",
      "Successfully installed mlxtend-0.18.0\n",
      "Note: you may need to restart the kernel to use updated packages.\n"
     ]
    }
   ],
   "source": [
    "pip install mlxtend "
   ]
  },
  {
   "cell_type": "code",
   "execution_count": null,
   "metadata": {
    "id": "XPC4E8N79rPu",
    "outputId": "0d2f4d04-3f8b-4bcf-df18-7ab9991cdd12"
   },
   "outputs": [
    {
     "name": "stdout",
     "output_type": "stream",
     "text": [
      "Wall time: 2min 10s\n"
     ]
    },
    {
     "data": {
      "text/plain": [
       "SequentialFeatureSelector(estimator=LogisticRegression(), forward=False,\n",
       "                          k_features=(1, 31))"
      ]
     },
     "execution_count": 88,
     "metadata": {
      "tags": []
     },
     "output_type": "execute_result"
    }
   ],
   "source": [
    "%%time\n",
    "from mlxtend.feature_selection import SequentialFeatureSelector \n",
    "from sklearn.linear_model import LogisticRegression\n",
    "from sklearn.model_selection import cross_validate\n",
    "from sklearn.pipeline import make_pipeline\n",
    "\n",
    "sfs = SequentialFeatureSelector(LogisticRegression(), forward=False, k_features=(1,31))\n",
    "sfs.fit(X_train_subsample, y_train_subsample)"
   ]
  },
  {
   "cell_type": "code",
   "execution_count": null,
   "metadata": {
    "id": "Caob1Ij89rPu",
    "outputId": "4920d057-7a53-4cfd-9ecf-05d3417607ad"
   },
   "outputs": [
    {
     "name": "stdout",
     "output_type": "stream",
     "text": [
      "(1, 2, 5, 8, 16, 25, 26, 27, 28, 29, 30)\n",
      "best k_features : 11\n",
      "0.8867752708118253\n"
     ]
    }
   ],
   "source": [
    "print(sfs.k_feature_idx_)\n",
    "print(\"best k_features :\",len(sfs.k_feature_idx_))\n",
    "print(sfs.k_score_)\n"
   ]
  },
  {
   "cell_type": "code",
   "execution_count": null,
   "metadata": {
    "id": "t_23QRH89rPu",
    "outputId": "94d9c84d-5143-44a7-be60-532102983ce8"
   },
   "outputs": [
    {
     "name": "stdout",
     "output_type": "stream",
     "text": [
      "[23:08:48] WARNING: C:/Users/Administrator/workspace/xgboost-win64_release_1.3.0/src/learner.cc:1061: Starting in XGBoost 1.3.0, the default evaluation metric used with the objective 'binary:logistic' was changed from 'error' to 'logloss'. Explicitly set eval_metric if you'd like to restore the old behavior.\n",
      "[23:10:31] WARNING: C:/Users/Administrator/workspace/xgboost-win64_release_1.3.0/src/learner.cc:1061: Starting in XGBoost 1.3.0, the default evaluation metric used with the objective 'binary:logistic' was changed from 'error' to 'logloss'. Explicitly set eval_metric if you'd like to restore the old behavior.\n",
      "[23:12:08] WARNING: C:/Users/Administrator/workspace/xgboost-win64_release_1.3.0/src/learner.cc:1061: Starting in XGBoost 1.3.0, the default evaluation metric used with the objective 'binary:logistic' was changed from 'error' to 'logloss'. Explicitly set eval_metric if you'd like to restore the old behavior.\n",
      "[23:13:46] WARNING: C:/Users/Administrator/workspace/xgboost-win64_release_1.3.0/src/learner.cc:1061: Starting in XGBoost 1.3.0, the default evaluation metric used with the objective 'binary:logistic' was changed from 'error' to 'logloss'. Explicitly set eval_metric if you'd like to restore the old behavior.\n",
      "[23:15:22] WARNING: C:/Users/Administrator/workspace/xgboost-win64_release_1.3.0/src/learner.cc:1061: Starting in XGBoost 1.3.0, the default evaluation metric used with the objective 'binary:logistic' was changed from 'error' to 'logloss'. Explicitly set eval_metric if you'd like to restore the old behavior.\n",
      "Wall time: 8min 14s\n"
     ]
    },
    {
     "data": {
      "text/plain": [
       "(0.9165996901971883, 0.9321463180756933)"
      ]
     },
     "execution_count": 98,
     "metadata": {
      "tags": []
     },
     "output_type": "execute_result"
    }
   ],
   "source": [
    "%%time\n",
    "from sklearn.model_selection import cross_validate\n",
    "from sklearn.pipeline import make_pipeline\n",
    "\n",
    "pipe_sfs_xgb = make_pipeline(StandardScaler(), SequentialFeatureSelector(LogisticRegression(), forward=False, k_features=11), XGBClassifier(use_label_encoder=False))\n",
    "\n",
    "scores = cross_validate(pipe_sfs_xgb,\n",
    "                        X_train_subsample, y_train_subsample, cv=5, scoring=('roc_auc', 'average_precision'))\n",
    "scores['test_roc_auc'].mean(), scores['test_average_precision'].mean()"
   ]
  },
  {
   "cell_type": "markdown",
   "metadata": {
    "id": "jHcZscvW9rPv"
   },
   "source": [
    "เห็นชัดเจนว่า Random Undersampling โดยไม่ต้องทำ Feature Selection ได้ผลดีที่สุดที่ model XGboost Classification"
   ]
  },
  {
   "cell_type": "markdown",
   "metadata": {
    "id": "6pQ2omWlV7TM"
   },
   "source": [
    "![EasyEnsemblePic.png](data:image/png;base64,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)"
   ]
  },
  {
   "cell_type": "markdown",
   "metadata": {
    "id": "q949DRI8V8bq"
   },
   "source": [
    "![EasyEnsembleresamplingPic.png](data:image/png;base64,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)"
   ]
  },
  {
   "cell_type": "markdown",
   "metadata": {
    "id": "ey11RZkH076U"
   },
   "source": [
    "ลองวิธี Ensemble resampling  ด้วย BalanceBaggingClassifier\n",
    "โดยลองด้วย Randomforest ตามด้วย logistic classifier model  แล้วเช็คดูค่า AUC and AP"
   ]
  },
  {
   "cell_type": "markdown",
   "metadata": {
    "id": "vsMe8jbKB1xW",
    "tags": []
   },
   "source": [
    "เริ่มกันที่ Logistic ก่อน\n",
    "และต่อด้วย randomforrest และต่อด้วย XGBoost"
   ]
  },
  {
   "cell_type": "markdown",
   "metadata": {
    "id": "xK0K8Zm69rPw"
   },
   "source": [
    "Logistic Classification with Ensemble resampling (BalanceBagging)"
   ]
  },
  {
   "cell_type": "code",
   "execution_count": null,
   "metadata": {
    "id": "QaRRuOhs6_Cp",
    "outputId": "ba41989d-287c-4517-b66c-17c500e2f872"
   },
   "outputs": [
    {
     "data": {
      "text/plain": [
       "(0.9384510241440008, 0.7961775169874621)"
      ]
     },
     "execution_count": 41,
     "metadata": {
      "tags": []
     },
     "output_type": "execute_result"
    }
   ],
   "source": [
    "from sklearn.tree import DecisionTreeClassifier\n",
    "from imblearn.ensemble import BalancedBaggingClassifier\n",
    "\n",
    "resampled_lr = BalancedBaggingClassifier(LogisticRegression(),\n",
    "                                         n_estimators=10, random_state=0)\n",
    "\n",
    "scores = cross_validate(resampled_lr,\n",
    "                        X_train, y_train, cv=5, scoring=('roc_auc', 'average_precision'))\n",
    "scores['test_roc_auc'].mean(), scores['test_average_precision'].mean()"
   ]
  },
  {
   "cell_type": "markdown",
   "metadata": {
    "id": "ZH4CpbTM9rPx"
   },
   "source": [
    "RandomForrest Classification with Ensemble resampling (BalanceBagging)"
   ]
  },
  {
   "cell_type": "code",
   "execution_count": null,
   "metadata": {
    "id": "wjTY1f6H0kcf"
   },
   "outputs": [],
   "source": [
    "from sklearn.tree import DecisionTreeClassifier\n",
    "from imblearn.ensemble import BalancedBaggingClassifier\n",
    "\n",
    "resampled_rf = BalancedBaggingClassifier(base_estimator=DecisionTreeClassifier(max_features='auto'),\n",
    "                                         random_state=0, n_estimators=10, verbose=1)"
   ]
  },
  {
   "cell_type": "code",
   "execution_count": null,
   "metadata": {
    "id": "1-JgHSAF0l7C",
    "outputId": "a900f558-ddaf-42f8-d89d-d00336278480"
   },
   "outputs": [
    {
     "name": "stderr",
     "output_type": "stream",
     "text": [
      "[Parallel(n_jobs=1)]: Using backend SequentialBackend with 1 concurrent workers.\n",
      "[Parallel(n_jobs=1)]: Done   1 out of   1 | elapsed:    2.3s finished\n",
      "[Parallel(n_jobs=1)]: Using backend SequentialBackend with 1 concurrent workers.\n",
      "[Parallel(n_jobs=1)]: Done   1 out of   1 | elapsed:    0.2s finished\n",
      "[Parallel(n_jobs=1)]: Using backend SequentialBackend with 1 concurrent workers.\n",
      "[Parallel(n_jobs=1)]: Done   1 out of   1 | elapsed:    2.4s finished\n",
      "[Parallel(n_jobs=1)]: Using backend SequentialBackend with 1 concurrent workers.\n",
      "[Parallel(n_jobs=1)]: Done   1 out of   1 | elapsed:    0.2s finished\n",
      "[Parallel(n_jobs=1)]: Using backend SequentialBackend with 1 concurrent workers.\n",
      "[Parallel(n_jobs=1)]: Done   1 out of   1 | elapsed:    2.4s finished\n",
      "[Parallel(n_jobs=1)]: Using backend SequentialBackend with 1 concurrent workers.\n",
      "[Parallel(n_jobs=1)]: Done   1 out of   1 | elapsed:    0.2s finished\n",
      "[Parallel(n_jobs=1)]: Using backend SequentialBackend with 1 concurrent workers.\n",
      "[Parallel(n_jobs=1)]: Done   1 out of   1 | elapsed:    2.4s finished\n",
      "[Parallel(n_jobs=1)]: Using backend SequentialBackend with 1 concurrent workers.\n",
      "[Parallel(n_jobs=1)]: Done   1 out of   1 | elapsed:    0.2s finished\n",
      "[Parallel(n_jobs=1)]: Using backend SequentialBackend with 1 concurrent workers.\n",
      "[Parallel(n_jobs=1)]: Done   1 out of   1 | elapsed:    2.4s finished\n",
      "[Parallel(n_jobs=1)]: Using backend SequentialBackend with 1 concurrent workers.\n",
      "[Parallel(n_jobs=1)]: Done   1 out of   1 | elapsed:    0.2s finished\n"
     ]
    },
    {
     "data": {
      "text/plain": [
       "(0.9365463215588076, 0.7952314025178662)"
      ]
     },
     "execution_count": 44,
     "metadata": {
      "tags": []
     },
     "output_type": "execute_result"
    }
   ],
   "source": [
    "scores = cross_validate(resampled_rf,\n",
    "                        X_train, y_train, cv=5, scoring=('roc_auc', 'average_precision'))\n",
    "scores['test_roc_auc'].mean(), scores['test_average_precision'].mean()"
   ]
  },
  {
   "cell_type": "markdown",
   "metadata": {
    "id": "5fyKbL31BTPa"
   },
   "source": [
    "ตอนนี้มีการวัดผลที่ได้ของทั้ง logistic classifier and random forrest ทั้งที่ทำ imbalance และ balance data ด้วยสองวิธี คือ RandomUndersampling และ Ensamble resampling เอามาเทียบกันด้วยการ plot ออกมาเป็น chart จะเห็นได้ชัดเจนกว่าในการเลือก model"
   ]
  },
  {
   "cell_type": "code",
   "execution_count": null,
   "metadata": {
    "id": "V-KwrcDUFzpI"
   },
   "outputs": [],
   "source": [
    "from sklearn.metrics import plot_roc_curve, plot_precision_recall_curve\n",
    "lr = LogisticRegression().fit(X_train, y_train)\n",
    "undersample_pipe = LogisticRegression().fit(X_train_subsample, y_train_subsample)\n",
    "resampled_lr.fit(X_train, y_train)\n",
    "lr_crw = LogisticRegression(class_weight=\"balanced\").fit(X_train, y_train)"
   ]
  },
  {
   "cell_type": "code",
   "execution_count": null,
   "metadata": {
    "colab": {
     "base_uri": "https://localhost:8080/",
     "height": 297
    },
    "id": "Bp0fmthWGMLq",
    "outputId": "e365001e-798e-496f-f38e-7f7319cb549a"
   },
   "outputs": [
    {
     "data": {
      "image/png": "[encoded data removed]",
      "text/plain": [
       "<Figure size 720x288 with 2 Axes>"
      ]
     },
     "metadata": {
      "needs_background": "light",
      "tags": []
     },
     "output_type": "display_data"
    }
   ],
   "source": [
    "fig, axes = plt.subplots(1, 2, figsize=(10, 4))\n",
    "plot_roc_curve(lr, X_test, y_test, name=\"original\", ax=axes[0])\n",
    "# plot_roc_curve(oversample_pipe, X_test, y_test, name=\"oversampling\", ax=axes[0])\n",
    "plot_roc_curve(undersample_pipe, X_test, y_test, name=\"undersampling\", ax=axes[0])\n",
    "plot_roc_curve(resampled_lr, X_test, y_test, name=\"balanced bagging\", ax=axes[0])\n",
    "plot_roc_curve(lr_crw, X_test, y_test, name=\"class re-weight\", ax=axes[0])\n",
    "axes[0].set_title(\"LogReg ROC curve\")\n",
    "\n",
    "plot_precision_recall_curve(lr, X_test, y_test, name=\"original\", ax=axes[1])\n",
    "# plot_precision_recall_curve(oversample_pipe, X_test, y_test, name=\"oversampling\", ax=axes[1])\n",
    "plot_precision_recall_curve(undersample_pipe, X_test, y_test, name=\"undersampling\", ax=axes[1])\n",
    "plot_precision_recall_curve(resampled_lr, X_test, y_test, name=\"balanced bagging\", ax=axes[1])\n",
    "plot_precision_recall_curve(lr_crw, X_test, y_test, name=\"class re-weight\", ax=axes[1])\n",
    "axes[1].set_title(\"LogReg PR curve\")\n",
    "plt.tight_layout()"
   ]
  },
  {
   "cell_type": "markdown",
   "metadata": {
    "id": "pfFXSEXo9rPy"
   },
   "source": [
    "RandomForest ROC curve and PR curve"
   ]
  },
  {
   "cell_type": "code",
   "execution_count": null,
   "metadata": {
    "colab": {
     "base_uri": "https://localhost:8080/"
    },
    "id": "S3qPjrFV78FM",
    "outputId": "198a334d-3533-4c85-c533-6e36134c0449"
   },
   "outputs": [
    {
     "name": "stderr",
     "output_type": "stream",
     "text": [
      "[Parallel(n_jobs=1)]: Using backend SequentialBackend with 1 concurrent workers.\n",
      "[Parallel(n_jobs=1)]: Done   1 out of   1 | elapsed:    2.9s finished\n"
     ]
    },
    {
     "data": {
      "text/plain": [
       "BalancedBaggingClassifier(base_estimator=DecisionTreeClassifier(max_features='auto'),\n",
       "                          random_state=0, verbose=1)"
      ]
     },
     "execution_count": 48,
     "metadata": {
      "tags": []
     },
     "output_type": "execute_result"
    }
   ],
   "source": [
    "rf = RandomForestClassifier(random_state=1).fit(X_train, y_train)\n",
    "rf_crw = RandomForestClassifier(random_state=1, class_weight=\"balanced\").fit(X_train, y_train)\n",
    "undersample_pipe_rf = RandomForestClassifier(random_state=1).fit(X_train_subsample, y_train_subsample)\n",
    "resampled_rf.fit(X_train, y_train)"
   ]
  },
  {
   "cell_type": "code",
   "execution_count": null,
   "metadata": {
    "colab": {
     "base_uri": "https://localhost:8080/",
     "height": 313
    },
    "id": "A5YLOTBfEZ0x",
    "outputId": "69c1a230-1fce-4fc2-fc8c-94956a431cb4"
   },
   "outputs": [
    {
     "name": "stderr",
     "output_type": "stream",
     "text": [
      "[Parallel(n_jobs=1)]: Using backend SequentialBackend with 1 concurrent workers.\n",
      "[Parallel(n_jobs=1)]: Done   1 out of   1 | elapsed:    0.2s finished\n",
      "[Parallel(n_jobs=1)]: Using backend SequentialBackend with 1 concurrent workers.\n",
      "[Parallel(n_jobs=1)]: Done   1 out of   1 | elapsed:    0.2s finished\n"
     ]
    },
    {
     "data": {
      "image/png": "[encoded data removed]",
      "text/plain": [
       "<Figure size 720x288 with 2 Axes>"
      ]
     },
     "metadata": {
      "needs_background": "light",
      "tags": []
     },
     "output_type": "display_data"
    }
   ],
   "source": [
    "fig, axes = plt.subplots(1, 2, figsize=(10, 4))\n",
    "plot_roc_curve(rf, X_test, y_test, name=\"original\", ax=axes[0])\n",
    "plot_roc_curve(undersample_pipe_rf, X_test, y_test, name=\"undersampling\", ax=axes[0])\n",
    "plot_roc_curve(resampled_rf, X_test, y_test, name=\"balanced bagging\", ax=axes[0])\n",
    "plot_roc_curve(rf_crw, X_test, y_test, name=\"class re-weight\", ax=axes[0])\n",
    "axes[0].set_title(\"RandomForest ROC curve\")\n",
    "\n",
    "plot_precision_recall_curve(rf, X_test, y_test, name=\"original\", ax=axes[1])\n",
    "plot_precision_recall_curve(undersample_pipe_rf, X_test, y_test, name=\"undersampling\", ax=axes[1])\n",
    "plot_precision_recall_curve(resampled_rf, X_test, y_test, name=\"balanced bagging\", ax=axes[1])\n",
    "plot_precision_recall_curve(rf_crw, X_test, y_test, name=\"class re-weight\", ax=axes[1])\n",
    "\n",
    "axes[1].set_title(\"RandomForest PR curve\")\n",
    "\n",
    "plt.tight_layout()\n",
    "#plt.savefig(\"images/roc_vs_pr.png\", dpi=500)"
   ]
  },
  {
   "cell_type": "markdown",
   "metadata": {
    "id": "kpkhuRmoHx2Q"
   },
   "source": [
    "ลองวิธี Ensemble resampling ด้วย BalanceBaggingClassifier โดยลองด้วย XGboost"
   ]
  },
  {
   "cell_type": "code",
   "execution_count": null,
   "metadata": {
    "id": "dsbzQwf6IB_o"
   },
   "outputs": [],
   "source": [
    "resampled_xgb = BalancedBaggingClassifier(XGBClassifier(),\n",
    "                                         n_estimators=10, random_state=0)\n",
    "\n",
    "scores = cross_validate(resampled_xgb,\n",
    "                        X_train, y_train, cv=5, scoring=('roc_auc', 'average_precision'))\n",
    "scores['test_roc_auc'].mean(), scores['test_average_precision'].mean()"
   ]
  },
  {
   "cell_type": "code",
   "execution_count": null,
   "metadata": {
    "colab": {
     "base_uri": "https://localhost:8080/"
    },
    "id": "hedW61zEMNLo",
    "outputId": "d9bc6e39-62ee-42a9-83fb-26d269063869"
   },
   "outputs": [
    {
     "data": {
      "text/plain": [
       "(0.9394109855022947, 0.803819389069174)"
      ]
     },
     "execution_count": 54,
     "metadata": {
      "tags": []
     },
     "output_type": "execute_result"
    }
   ],
   "source": [
    "scores['test_roc_auc'].mean(), scores['test_average_precision'].mean()"
   ]
  },
  {
   "cell_type": "code",
   "execution_count": null,
   "metadata": {
    "id": "cRuGNTYWy53b"
   },
   "outputs": [],
   "source": [
    "xgb_t = XGBClassifier().fit(X_train, y_train)\n",
    "undersample_pipe_xgb = XGBClassifier().fit(X_train_subsample, y_train_subsample)\n",
    "resampled_xgb.fit(X_train, y_train)\n",
    "xgb_t_crw50 = XGBClassifier(scale_pos_weight=50).fit(X_train, y_train)\n",
    "xgb_t_crw99 = XGBClassifier(scale_pos_weight=99).fit(X_train, y_train)"
   ]
  },
  {
   "cell_type": "code",
   "execution_count": null,
   "metadata": {
    "colab": {
     "base_uri": "https://localhost:8080/",
     "height": 313
    },
    "id": "j9BLvZQ3MnUI",
    "outputId": "1c8a9af8-0c7b-4eb4-ed12-71f25ce745b5"
   },
   "outputs": [
    {
     "name": "stdout",
     "output_type": "stream",
     "text": [
      "Wall time: 4.33 s\n"
     ]
    },
    {
     "data": {
      "image/png": "[encoded data removed]",
      "text/plain": [
       "<Figure size 720x288 with 2 Axes>"
      ]
     },
     "metadata": {
      "needs_background": "light",
      "tags": []
     },
     "output_type": "display_data"
    }
   ],
   "source": [
    "%%time\n",
    "fig, axes = plt.subplots(1, 2, figsize=(10, 4))\n",
    "plot_roc_curve(xgb_t, X_test, y_test, name=\"original\", ax=axes[0])\n",
    "plot_roc_curve(undersample_pipe_xgb, X_test, y_test, name=\"undersampling\", ax=axes[0])\n",
    "plot_roc_curve(resampled_xgb, X_test, y_test, name=\"balanced bagging\", ax=axes[0])\n",
    "plot_roc_curve(xgb_t_crw50, X_test, y_test, name=\"class re-weight50\", ax=axes[0])\n",
    "plot_roc_curve(xgb_t_crw99, X_test, y_test, name=\"class re-weight99\", ax=axes[0])\n",
    "axes[0].set_title(\"XGBclassifier ROC curve\")\n",
    "\n",
    "plot_precision_recall_curve(xgb_t, X_test, y_test, name=\"original\", ax=axes[1])\n",
    "plot_precision_recall_curve(undersample_pipe_xgb, X_test, y_test, name=\"undersampling\", ax=axes[1])\n",
    "plot_precision_recall_curve(resampled_xgb, X_test, y_test, name=\"balanced bagging\", ax=axes[1])\n",
    "plot_precision_recall_curve(xgb_t_crw50, X_test, y_test, name=\"class re-weight50\", ax=axes[1])\n",
    "plot_precision_recall_curve(xgb_t_crw99, X_test, y_test, name=\"class re-weight99\", ax=axes[1])\n",
    "\n",
    "axes[1].set_title(\"XGBclassifier PR curve\")\n",
    "\n",
    "plt.tight_layout()\n",
    "#plt.savefig(\"images/roc_vs_pr.png\", dpi=500)"
   ]
  },
  {
   "cell_type": "markdown",
   "metadata": {
    "id": "ydU7Ph0Wnau7"
   },
   "source": [
    "balance bagging ของ XGBclassifier ทำการ process เป็นเวลานานมาก ถือเป็น cost สูง จึงไม่เหมาะในการนำมาใช้"
   ]
  },
  {
   "cell_type": "markdown",
   "metadata": {
    "id": "uSlkSsbog37l"
   },
   "source": [
    "จาก model rf and xgb ดู มีแนวโน้มที่ดี ต้องลอง imbalance แบบอื่นเทียบ และใช้วิธี balanced bagging ซึ่งค่อนข้าง cost สูงจึงเลือก randomforrest เพื่อไป tune hyperparameter ต่อไป  \n",
    "ส่วน XGB จะไปทำต่อโดยใช้ original data และ subsample data"
   ]
  },
  {
   "cell_type": "markdown",
   "metadata": {
    "id": "FBAsT-7PSQ5b"
   },
   "source": [
    "Some go further and suggest that using a ROC curve with an imbalanced dataset might be deceptive and lead to incorrect interpretations of the model skill.  \n",
    "The Precision-Recall Plot Is More Informative than the ROC Plot When Evaluating Binary Classifiers on Imbalanced Datasets"
   ]
  },
  {
   "cell_type": "markdown",
   "metadata": {
    "id": "ufF-tfAcl5JA",
    "tags": []
   },
   "source": [
    "## Note on Subset data use index selection \n"
   ]
  },
  {
   "cell_type": "code",
   "execution_count": null,
   "metadata": {
    "id": "MVsa9yFbhKy7",
    "jupyter": {
     "source_hidden": true
    },
    "tags": []
   },
   "outputs": [],
   "source": [
    "x = range(20)\n",
    "list(x)"
   ]
  },
  {
   "cell_type": "code",
   "execution_count": null,
   "metadata": {
    "id": "9ZsP-aOHkx6L",
    "jupyter": {
     "source_hidden": true
    },
    "tags": []
   },
   "outputs": [],
   "source": [
    "list(x[::2])\n"
   ]
  },
  {
   "cell_type": "code",
   "execution_count": null,
   "metadata": {
    "id": "mU2qAF6okx8S",
    "jupyter": {
     "source_hidden": true
    },
    "tags": []
   },
   "outputs": [],
   "source": [
    "list(x[::3])\n"
   ]
  },
  {
   "cell_type": "code",
   "execution_count": null,
   "metadata": {
    "id": "qnkUdKY8k0iG",
    "jupyter": {
     "source_hidden": true
    },
    "tags": []
   },
   "outputs": [],
   "source": [
    "list(x[10:40:6])"
   ]
  },
  {
   "cell_type": "markdown",
   "metadata": {
    "id": "o2l6Z5B19rP1"
   },
   "source": [
    "## Tune Hyperparameter ของ XGboostClassifier \n",
    "ด้วย grid search และ random search โดยจะใช้ชุดตัวอย่างจาก Random Undersampling ในการะประหยัด cost ในการ run หา hyperparameter ที่เหมาะสม\n",
    "และ ใช้ hyperband ช่วยในการ allocate resource เป็นการช่วยให้สามารถทำงานบนเครื่องคอมพิวเตอร์ที่ไม่ได้มี resource สูงมาก และประหยัดเวลากว่า gridsearch และ randomsearch\n"
   ]
  },
  {
   "cell_type": "markdown",
   "metadata": {
    "id": "ARrqWwc09rP2"
   },
   "source": [
    "grid search"
   ]
  },
  {
   "cell_type": "code",
   "execution_count": null,
   "metadata": {
    "id": "SDOBIH759rP2",
    "jupyter": {
     "source_hidden": true
    },
    "tags": []
   },
   "outputs": [],
   "source": [
    "# XGBClassifier(learning_rate =0.1,\n",
    "#                   n_estimators=10,\n",
    "#                   max_depth=4,\n",
    "#                   min_child_weight=6,\n",
    "#                   gamma=0,\n",
    "#                   subsample=0.8,\n",
    "#                   colsample_bytree=0.8,\n",
    "#                   objective= 'binary:logistic',\n",
    "#                   nthread=4,\n",
    "#                   scale_pos_weight=1,\n",
    "#                   seed=27)"
   ]
  },
  {
   "cell_type": "code",
   "execution_count": null,
   "metadata": {
    "id": "a9qE3GR89rP2",
    "outputId": "d6894ec9-905a-4514-b2ab-884d473220be",
    "tags": []
   },
   "outputs": [
    {
     "name": "stderr",
     "output_type": "stream",
     "text": [
      "C:\\Users\\t_tan\\anaconda3\\envs\\tf2.4\\lib\\site-packages\\xgboost\\sklearn.py:888: UserWarning: The use of label encoder in XGBClassifier is deprecated and will be removed in a future release. To remove this warning, do the following: 1) Pass option use_label_encoder=False when constructing XGBClassifier object; and 2) Encode your labels (y) as integers starting with 0, i.e. 0, 1, 2, ..., [num_class - 1].\n",
      "  warnings.warn(label_encoder_deprecation_msg, UserWarning)\n"
     ]
    },
    {
     "name": "stdout",
     "output_type": "stream",
     "text": [
      "[11:36:07] WARNING: C:/Users/Administrator/workspace/xgboost-win64_release_1.3.0/src/learner.cc:1061: Starting in XGBoost 1.3.0, the default evaluation metric used with the objective 'binary:logistic' was changed from 'error' to 'logloss'. Explicitly set eval_metric if you'd like to restore the old behavior.\n",
      "best_recall: 82.4207 %\n",
      "Best Parameters: {'colsample_bytree': 0.9, 'learning_rate': 0.4, 'max_depth': 4}\n",
      "Wall time: 9min 4s\n"
     ]
    }
   ],
   "source": [
    "%%time\n",
    "from xgboost import XGBClassifier\n",
    "from sklearn.model_selection import GridSearchCV\n",
    "\n",
    "classifier = XGBClassifier()\n",
    "\n",
    "parameters = {'learning_rate':[0.1,0.2,0.3,0.4],'max_depth':[3,4,5,6,7,8],'colsample_bytree':[0.5,0.6,0.7,0.8,0.9]}\n",
    "\n",
    "grid_search = GridSearchCV(estimator = classifier,\n",
    "                           param_grid = parameters,\n",
    "                           scoring = 'recall',\n",
    "                           cv = 10,\n",
    "                           n_jobs = -1)\n",
    "grid_search.fit(X_train_subsample, y_train_subsample)\n",
    "best_recall = grid_search.best_score_\n",
    "best_parameters = grid_search.best_params_\n",
    "print(\"best_recall: {:.4f} %\".format(best_recall*100))\n",
    "print(\"Best Parameters:\", best_parameters)"
   ]
  },
  {
   "cell_type": "code",
   "execution_count": null,
   "metadata": {
    "id": "1bLgNORc9rP2",
    "tags": []
   },
   "outputs": [],
   "source": [
    "from hyperband import HyperbandSearchCV #check hyperband installed"
   ]
  },
  {
   "cell_type": "code",
   "execution_count": null,
   "metadata": {
    "id": "WikzNgug9rP2",
    "outputId": "9e26b28a-dad2-4d9d-f085-3af69c489b0b",
    "tags": []
   },
   "outputs": [
    {
     "name": "stderr",
     "output_type": "stream",
     "text": [
      "C:\\Users\\t_tan\\anaconda3\\envs\\tf2.4\\lib\\site-packages\\sklearn\\utils\\validation.py:67: FutureWarning: Pass groups=None as keyword args. From version 0.25 passing these as positional arguments will result in an error\n",
      "  warnings.warn(\"Pass {} as keyword args. From version 0.25 \"\n",
      "C:\\Users\\t_tan\\anaconda3\\envs\\tf2.4\\lib\\site-packages\\sklearn\\model_selection\\_search.py:847: FutureWarning: The parameter 'iid' is deprecated in 0.22 and will be removed in 0.24.\n",
      "  warnings.warn(\n",
      "C:\\Users\\t_tan\\anaconda3\\envs\\tf2.4\\lib\\site-packages\\sklearn\\model_selection\\_search.py:847: FutureWarning: The parameter 'iid' is deprecated in 0.22 and will be removed in 0.24.\n",
      "  warnings.warn(\n",
      "C:\\Users\\t_tan\\anaconda3\\envs\\tf2.4\\lib\\site-packages\\sklearn\\model_selection\\_search.py:847: FutureWarning: The parameter 'iid' is deprecated in 0.22 and will be removed in 0.24.\n",
      "  warnings.warn(\n",
      "C:\\Users\\t_tan\\anaconda3\\envs\\tf2.4\\lib\\site-packages\\sklearn\\model_selection\\_search.py:847: FutureWarning: The parameter 'iid' is deprecated in 0.22 and will be removed in 0.24.\n",
      "  warnings.warn(\n",
      "C:\\Users\\t_tan\\anaconda3\\envs\\tf2.4\\lib\\site-packages\\sklearn\\model_selection\\_search.py:847: FutureWarning: The parameter 'iid' is deprecated in 0.22 and will be removed in 0.24.\n",
      "  warnings.warn(\n",
      "C:\\Users\\t_tan\\anaconda3\\envs\\tf2.4\\lib\\site-packages\\sklearn\\model_selection\\_search.py:847: FutureWarning: The parameter 'iid' is deprecated in 0.22 and will be removed in 0.24.\n",
      "  warnings.warn(\n",
      "C:\\Users\\t_tan\\anaconda3\\envs\\tf2.4\\lib\\site-packages\\sklearn\\model_selection\\_search.py:847: FutureWarning: The parameter 'iid' is deprecated in 0.22 and will be removed in 0.24.\n",
      "  warnings.warn(\n",
      "C:\\Users\\t_tan\\anaconda3\\envs\\tf2.4\\lib\\site-packages\\sklearn\\model_selection\\_search.py:847: FutureWarning: The parameter 'iid' is deprecated in 0.22 and will be removed in 0.24.\n",
      "  warnings.warn(\n",
      "C:\\Users\\t_tan\\anaconda3\\envs\\tf2.4\\lib\\site-packages\\sklearn\\model_selection\\_search.py:847: FutureWarning: The parameter 'iid' is deprecated in 0.22 and will be removed in 0.24.\n",
      "  warnings.warn(\n",
      "C:\\Users\\t_tan\\anaconda3\\envs\\tf2.4\\lib\\site-packages\\sklearn\\model_selection\\_search.py:847: FutureWarning: The parameter 'iid' is deprecated in 0.22 and will be removed in 0.24.\n",
      "  warnings.warn(\n",
      "C:\\Users\\t_tan\\anaconda3\\envs\\tf2.4\\lib\\site-packages\\sklearn\\model_selection\\_search.py:847: FutureWarning: The parameter 'iid' is deprecated in 0.22 and will be removed in 0.24.\n",
      "  warnings.warn(\n",
      "C:\\Users\\t_tan\\anaconda3\\envs\\tf2.4\\lib\\site-packages\\sklearn\\model_selection\\_search.py:847: FutureWarning: The parameter 'iid' is deprecated in 0.22 and will be removed in 0.24.\n",
      "  warnings.warn(\n",
      "C:\\Users\\t_tan\\anaconda3\\envs\\tf2.4\\lib\\site-packages\\sklearn\\model_selection\\_search.py:847: FutureWarning: The parameter 'iid' is deprecated in 0.22 and will be removed in 0.24.\n",
      "  warnings.warn(\n",
      "C:\\Users\\t_tan\\anaconda3\\envs\\tf2.4\\lib\\site-packages\\sklearn\\model_selection\\_search.py:847: FutureWarning: The parameter 'iid' is deprecated in 0.22 and will be removed in 0.24.\n",
      "  warnings.warn(\n",
      "C:\\Users\\t_tan\\anaconda3\\envs\\tf2.4\\lib\\site-packages\\sklearn\\model_selection\\_search.py:847: FutureWarning: The parameter 'iid' is deprecated in 0.22 and will be removed in 0.24.\n",
      "  warnings.warn(\n",
      "C:\\Users\\t_tan\\anaconda3\\envs\\tf2.4\\lib\\site-packages\\xgboost\\sklearn.py:888: UserWarning: The use of label encoder in XGBClassifier is deprecated and will be removed in a future release. To remove this warning, do the following: 1) Pass option use_label_encoder=False when constructing XGBClassifier object; and 2) Encode your labels (y) as integers starting with 0, i.e. 0, 1, 2, ..., [num_class - 1].\n",
      "  warnings.warn(label_encoder_deprecation_msg, UserWarning)\n"
     ]
    },
    {
     "name": "stdout",
     "output_type": "stream",
     "text": [
      "[23:26:23] WARNING: C:/Users/Administrator/workspace/xgboost-win64_release_1.3.0/src/learner.cc:1061: Starting in XGBoost 1.3.0, the default evaluation metric used with the objective 'binary:logistic' was changed from 'error' to 'logloss'. Explicitly set eval_metric if you'd like to restore the old behavior.\n",
      "best_recall1: 83.9075 %\n",
      "Best Parameters1: {'max_depth': 6, 'learning_rate': 0.3, 'colsample_bytree': 0.6, 'n_estimators': 3}\n",
      "Wall time: 2min 18s\n"
     ]
    }
   ],
   "source": [
    "%%time\n",
    "from hyperband import HyperbandSearchCV\n",
    "from xgboost import XGBClassifier\n",
    "# from scipy.stats import randint as sp_randint\n",
    "\n",
    "model1 = XGBClassifier()\n",
    "param_dist1 = {\n",
    "        'learning_rate':[0.1,0.2,0.3,0.4],\n",
    "        'max_depth': [3,4,5,6,7,8],\n",
    "        'colsample_bytree':[0.5,0.6,0.7,0.8,0.9]\n",
    "}\n",
    "        \n",
    "search1 = HyperbandSearchCV(model1, param_dist1,\n",
    "                               resource_param='n_estimators',\n",
    "                               scoring='recall',\n",
    "                               n_jobs=-1,\n",
    "                               cv=10,\n",
    "                               verbose=0)\n",
    "search1.fit(X_train_subsample, y_train_subsample)\n",
    "best_recall_hpb1 = search1.best_score_\n",
    "best_parameters_hpb1 = search1.best_params_\n",
    "print(\"best_recall1: {:.4f} %\".format(best_recall_hpb1*100))\n",
    "print(\"Best Parameters1:\", best_parameters_hpb1)"
   ]
  },
  {
   "cell_type": "code",
   "execution_count": null,
   "metadata": {
    "collapsed": true,
    "id": "67QLOg_e9rP3",
    "jupyter": {
     "outputs_hidden": true
    },
    "outputId": "f57418ae-9f91-473f-af15-6b8c5db73e77",
    "tags": []
   },
   "outputs": [
    {
     "name": "stderr",
     "output_type": "stream",
     "text": [
      "C:\\Users\\t_tan\\anaconda3\\envs\\tf2.4\\lib\\site-packages\\sklearn\\utils\\validation.py:67: FutureWarning: Pass groups=None as keyword args. From version 0.25 passing these as positional arguments will result in an error\n",
      "  warnings.warn(\"Pass {} as keyword args. From version 0.25 \"\n",
      "C:\\Users\\t_tan\\anaconda3\\envs\\tf2.4\\lib\\site-packages\\sklearn\\model_selection\\_search.py:278: UserWarning: The total space of parameters 36 is smaller than n_iter=81. Running 36 iterations. For exhaustive searches, use GridSearchCV.\n",
      "  warnings.warn(\n",
      "C:\\Users\\t_tan\\anaconda3\\envs\\tf2.4\\lib\\site-packages\\sklearn\\model_selection\\_search.py:847: FutureWarning: The parameter 'iid' is deprecated in 0.22 and will be removed in 0.24.\n",
      "  warnings.warn(\n",
      "C:\\Users\\t_tan\\anaconda3\\envs\\tf2.4\\lib\\site-packages\\sklearn\\model_selection\\_search.py:847: FutureWarning: The parameter 'iid' is deprecated in 0.22 and will be removed in 0.24.\n",
      "  warnings.warn(\n",
      "C:\\Users\\t_tan\\anaconda3\\envs\\tf2.4\\lib\\site-packages\\sklearn\\model_selection\\_search.py:847: FutureWarning: The parameter 'iid' is deprecated in 0.22 and will be removed in 0.24.\n",
      "  warnings.warn(\n",
      "C:\\Users\\t_tan\\anaconda3\\envs\\tf2.4\\lib\\site-packages\\sklearn\\model_selection\\_search.py:847: FutureWarning: The parameter 'iid' is deprecated in 0.22 and will be removed in 0.24.\n",
      "  warnings.warn(\n",
      "C:\\Users\\t_tan\\anaconda3\\envs\\tf2.4\\lib\\site-packages\\sklearn\\model_selection\\_search.py:847: FutureWarning: The parameter 'iid' is deprecated in 0.22 and will be removed in 0.24.\n",
      "  warnings.warn(\n",
      "C:\\Users\\t_tan\\anaconda3\\envs\\tf2.4\\lib\\site-packages\\sklearn\\model_selection\\_search.py:847: FutureWarning: The parameter 'iid' is deprecated in 0.22 and will be removed in 0.24.\n",
      "  warnings.warn(\n",
      "C:\\Users\\t_tan\\anaconda3\\envs\\tf2.4\\lib\\site-packages\\sklearn\\model_selection\\_search.py:847: FutureWarning: The parameter 'iid' is deprecated in 0.22 and will be removed in 0.24.\n",
      "  warnings.warn(\n",
      "C:\\Users\\t_tan\\anaconda3\\envs\\tf2.4\\lib\\site-packages\\sklearn\\model_selection\\_search.py:847: FutureWarning: The parameter 'iid' is deprecated in 0.22 and will be removed in 0.24.\n",
      "  warnings.warn(\n",
      "C:\\Users\\t_tan\\anaconda3\\envs\\tf2.4\\lib\\site-packages\\sklearn\\model_selection\\_search.py:847: FutureWarning: The parameter 'iid' is deprecated in 0.22 and will be removed in 0.24.\n",
      "  warnings.warn(\n",
      "C:\\Users\\t_tan\\anaconda3\\envs\\tf2.4\\lib\\site-packages\\sklearn\\model_selection\\_search.py:847: FutureWarning: The parameter 'iid' is deprecated in 0.22 and will be removed in 0.24.\n",
      "  warnings.warn(\n",
      "C:\\Users\\t_tan\\anaconda3\\envs\\tf2.4\\lib\\site-packages\\sklearn\\model_selection\\_search.py:847: FutureWarning: The parameter 'iid' is deprecated in 0.22 and will be removed in 0.24.\n",
      "  warnings.warn(\n",
      "C:\\Users\\t_tan\\anaconda3\\envs\\tf2.4\\lib\\site-packages\\sklearn\\model_selection\\_search.py:847: FutureWarning: The parameter 'iid' is deprecated in 0.22 and will be removed in 0.24.\n",
      "  warnings.warn(\n",
      "C:\\Users\\t_tan\\anaconda3\\envs\\tf2.4\\lib\\site-packages\\sklearn\\model_selection\\_search.py:847: FutureWarning: The parameter 'iid' is deprecated in 0.22 and will be removed in 0.24.\n",
      "  warnings.warn(\n",
      "C:\\Users\\t_tan\\anaconda3\\envs\\tf2.4\\lib\\site-packages\\sklearn\\model_selection\\_search.py:847: FutureWarning: The parameter 'iid' is deprecated in 0.22 and will be removed in 0.24.\n",
      "  warnings.warn(\n"
     ]
    },
    {
     "name": "stdout",
     "output_type": "stream",
     "text": [
      "[23:29:41] WARNING: C:/Users/Administrator/workspace/xgboost-win64_release_1.3.0/src/learner.cc:1061: Starting in XGBoost 1.3.0, the default evaluation metric used with the objective 'binary:logistic' was changed from 'error' to 'logloss'. Explicitly set eval_metric if you'd like to restore the old behavior.\n",
      "best_recall: 84.2105 %\n",
      "Best Parameters: {'objective': 'binary:logistic', 'max_depth': 6, 'learning_rate': 0.3, 'colsample_bytree': 0.6, 'n_estimators': 3}\n",
      "Wall time: 1min 52s\n"
     ]
    },
    {
     "name": "stderr",
     "output_type": "stream",
     "text": [
      "C:\\Users\\t_tan\\anaconda3\\envs\\tf2.4\\lib\\site-packages\\sklearn\\model_selection\\_search.py:847: FutureWarning: The parameter 'iid' is deprecated in 0.22 and will be removed in 0.24.\n",
      "  warnings.warn(\n",
      "C:\\Users\\t_tan\\anaconda3\\envs\\tf2.4\\lib\\site-packages\\xgboost\\sklearn.py:888: UserWarning: The use of label encoder in XGBClassifier is deprecated and will be removed in a future release. To remove this warning, do the following: 1) Pass option use_label_encoder=False when constructing XGBClassifier object; and 2) Encode your labels (y) as integers starting with 0, i.e. 0, 1, 2, ..., [num_class - 1].\n",
      "  warnings.warn(label_encoder_deprecation_msg, UserWarning)\n"
     ]
    }
   ],
   "source": [
    "%%time\n",
    "from hyperband import HyperbandSearchCV\n",
    "from xgboost import XGBClassifier\n",
    "# from scipy.stats import randint as sp_randint\n",
    "\n",
    "model = XGBClassifier()\n",
    "param_dist = {\n",
    "        'learning_rate':[0.2,0.3,0.4],\n",
    "        'max_depth': [6,7,8],\n",
    "        'colsample_bytree':[0.6,0.7,0.8,0.9],\n",
    "        \n",
    "        'objective': ['binary:logistic'] #, 'binary:hinge']\n",
    "}\n",
    "        \n",
    "search = HyperbandSearchCV(model, param_dist,\n",
    "                               resource_param='n_estimators',\n",
    "                               scoring='recall',\n",
    "                               n_jobs=-1,\n",
    "                               cv=10,\n",
    "                               verbose=0)\n",
    "search.fit(X_train_subsample, y_train_subsample)\n",
    "best_recall_hpb = search.best_score_\n",
    "best_parameters_hpb = search.best_params_\n",
    "print(\"best_recall: {:.4f} %\".format(best_recall_hpb*100))\n",
    "print(\"Best Parameters:\", best_parameters_hpb)"
   ]
  },
  {
   "cell_type": "code",
   "execution_count": null,
   "metadata": {
    "id": "mvODcK0E9rP3",
    "outputId": "a486ba48-282e-41c2-a2c5-e61ab5d70412"
   },
   "outputs": [
    {
     "name": "stdout",
     "output_type": "stream",
     "text": [
      "best_roc_auc: 84.2105 %\n",
      "Best Parameters: {'objective': 'binary:logistic', 'max_depth': 6, 'learning_rate': 0.3, 'colsample_bytree': 0.6, 'n_estimators': 3}\n"
     ]
    }
   ],
   "source": [
    "best_recall_hpb = search.best_score_\n",
    "best_parameters_hpb = search.best_params_\n",
    "print(\"best_roc_auc: {:.4f} %\".format(best_recall_hpb*100))\n",
    "print(\"Best Parameters:\", best_parameters_hpb)"
   ]
  },
  {
   "cell_type": "code",
   "execution_count": null,
   "metadata": {
    "id": "d2Ha1inV9rP3",
    "jupyter": {
     "source_hidden": true
    },
    "tags": []
   },
   "outputs": [],
   "source": [
    "#[13:11:52] WARNING: C:/Users/Administrator/workspace/xgboost-win64_release_1.3.0/src/learner.cc:1061: Starting in XGBoost 1.3.0, the default evaluation metric used with the objective 'binary:logistic' was changed from 'error' to 'logloss'. Explicitly set eval_metric if you'd like to restore the old behavior.  "
   ]
  },
  {
   "cell_type": "code",
   "execution_count": null,
   "metadata": {
    "id": "cszGe5B49rP3",
    "jupyter": {
     "source_hidden": true
    },
    "tags": []
   },
   "outputs": [],
   "source": [
    "# # \n",
    "# best_recall: 83.9075 %  \n",
    "# Best Parameters: {'objective': 'binary:logistic', 'max_depth': 4, 'learning_rate': 0.3, 'colsample_bytree': 0.5, 'n_estimators': 81}  \n",
    "# Wall time: 3min 50s"
   ]
  },
  {
   "cell_type": "markdown",
   "metadata": {
    "id": "oJbihPza9rP4"
   },
   "source": [
    "best_recall: 84.2105 %\n",
    "Best Parameters: {'objective': 'binary:logistic', 'max_depth': 6, 'learning_rate': 0.3, 'colsample_bytree': 0.6, 'n_estimators': 3}"
   ]
  },
  {
   "cell_type": "markdown",
   "metadata": {
    "id": "frFjWeQP9rP4"
   },
   "source": [
    "# ทำการ Training the XGboost classification model ด้วย best parameter ที่ได้อีกครั้ง"
   ]
  },
  {
   "cell_type": "markdown",
   "metadata": {
    "id": "bb6jCOCQiAmP"
   },
   "source": [
    "## Training XGboost classification model on the Training set"
   ]
  },
  {
   "cell_type": "markdown",
   "metadata": {
    "id": "p6ndvFmuPGPx"
   },
   "source": [
    "### ทำการ fit เพื่อ train model "
   ]
  },
  {
   "cell_type": "markdown",
   "metadata": {
    "id": "0XWraEpWonWo"
   },
   "source": [
    "ใช้ xgboost กับ original data ที่ยังเป็น imbalance data และดูผลของการทำนายของ model โดยสร้างเป็น Confusion metric และ plot ออกมาเป็น ROC curve & PR curve "
   ]
  },
  {
   "cell_type": "code",
   "execution_count": null,
   "metadata": {
    "id": "mHSiyDNO9rP4",
    "outputId": "249f6211-a160-4440-cd56-c289c583dfa8"
   },
   "outputs": [
    {
     "name": "stderr",
     "output_type": "stream",
     "text": [
      "C:\\Users\\t_tan\\anaconda3\\envs\\tf2.4\\lib\\site-packages\\xgboost\\sklearn.py:888: UserWarning: The use of label encoder in XGBClassifier is deprecated and will be removed in a future release. To remove this warning, do the following: 1) Pass option use_label_encoder=False when constructing XGBClassifier object; and 2) Encode your labels (y) as integers starting with 0, i.e. 0, 1, 2, ..., [num_class - 1].\n",
      "  warnings.warn(label_encoder_deprecation_msg, UserWarning)\n"
     ]
    },
    {
     "name": "stdout",
     "output_type": "stream",
     "text": [
      "[23:36:55] WARNING: C:/Users/Administrator/workspace/xgboost-win64_release_1.3.0/src/learner.cc:1061: Starting in XGBoost 1.3.0, the default evaluation metric used with the objective 'binary:logistic' was changed from 'error' to 'logloss'. Explicitly set eval_metric if you'd like to restore the old behavior.\n",
      "Wall time: 5.92 s\n"
     ]
    },
    {
     "data": {
      "text/plain": [
       "XGBClassifier(base_score=0.5, booster='gbtree', colsample_bylevel=1,\n",
       "              colsample_bynode=1, colsample_bytree=1, gamma=0, gpu_id=-1,\n",
       "              importance_type='gain', interaction_constraints='',\n",
       "              learning_rate=0.3, max_delta_step=0, max_depth=6,\n",
       "              min_child_weight=1, missing=nan, monotone_constraints='()',\n",
       "              n_estimators=57, n_jobs=12, num_parallel_tree=1, random_state=1,\n",
       "              reg_alpha=0, reg_lambda=1, scale_pos_weight=1, seed=1,\n",
       "              subsample=1, tree_method='exact', validate_parameters=1,\n",
       "              verbosity=None)"
      ]
     },
     "execution_count": 118,
     "metadata": {
      "tags": []
     },
     "output_type": "execute_result"
    }
   ],
   "source": [
    "%%time\n",
    "from xgboost import XGBClassifier\n",
    "xgbclassifier1 = XGBClassifier(learning_rate =0.3,\n",
    "                n_estimators=57,\n",
    "                max_depth=6,\n",
    "                objective='binary:logistic',\n",
    "                seed=1)\n",
    "xgbclassifier1.fit(X_train, y_train)"
   ]
  },
  {
   "cell_type": "code",
   "execution_count": null,
   "metadata": {
    "id": "VnEQ5cRo9rP5",
    "outputId": "721b4884-0176-4720-8a60-59e68eb0c71b"
   },
   "outputs": [
    {
     "name": "stdout",
     "output_type": "stream",
     "text": [
      "[[0 0]\n",
      " [0 0]\n",
      " [0 0]\n",
      " ...\n",
      " [0 0]\n",
      " [0 0]\n",
      " [0 0]]\n",
      "(96117,)\n"
     ]
    }
   ],
   "source": [
    "y_pred1 = xgbclassifier1.predict(X_test)\n",
    "print(np.concatenate((y_pred1.reshape(len(y_pred1), 1), y_test.reshape(len(y_test),1)), axis=1))\n",
    "print(y_pred1.shape)"
   ]
  },
  {
   "cell_type": "code",
   "execution_count": null,
   "metadata": {
    "id": "CGy7OzeM9rP5",
    "outputId": "56652144-aef6-48a8-e8c5-b9e0df93be82"
   },
   "outputs": [
    {
     "name": "stdout",
     "output_type": "stream",
     "text": [
      "[[92548     0]\n",
      " [ 1150  2419]]\n",
      "accuracy_score : 0.9880354151710936\n",
      "roc_auc_score : 0.838890445502942\n",
      "recall_score : 0.677780891005884\n"
     ]
    },
    {
     "data": {
      "text/plain": [
       "<sklearn.metrics._plot.confusion_matrix.ConfusionMatrixDisplay at 0x29c80034c40>"
      ]
     },
     "execution_count": 120,
     "metadata": {
      "tags": []
     },
     "output_type": "execute_result"
    },
    {
     "data": {
      "image/png": "[encoded data removed]",
      "text/plain": [
       "<Figure size 432x288 with 2 Axes>"
      ]
     },
     "metadata": {
      "needs_background": "light",
      "tags": []
     },
     "output_type": "display_data"
    }
   ],
   "source": [
    "%matplotlib inline\n",
    "from sklearn.metrics import confusion_matrix, accuracy_score, ConfusionMatrixDisplay, roc_auc_score, recall_score\n",
    "cm1 = confusion_matrix(y_test, y_pred1)\n",
    "print(cm1)\n",
    "print(\"accuracy_score :\", accuracy_score(y_test, y_pred1))\n",
    "print(\"roc_auc_score :\", roc_auc_score(y_test, y_pred1))\n",
    "print(\"recall_score :\", recall_score(y_test, y_pred1))\n",
    "      \n",
    "cmd1 = ConfusionMatrixDisplay(confusion_matrix=cm1, display_labels=['No','Yes'])\n",
    "cmd1.plot()"
   ]
  },
  {
   "cell_type": "markdown",
   "metadata": {
    "id": "WugEvZ069rP5"
   },
   "source": [
    "จาก recal ที่ ค่อนข้างต่ำ แสดงว่า ต้องทำการ balance ข้อมูลก่อนมาทำการ fit model ไม่งั้น recall น้อยกว่า ซึ่งไม่ดีในแง่มุมของ application ที่เราต้องการใช้"
   ]
  },
  {
   "cell_type": "code",
   "execution_count": null,
   "metadata": {
    "id": "JnJByCyS9rP5",
    "outputId": "6692eecb-4b5e-4846-8325-f73039013c1e",
    "tags": []
   },
   "outputs": [
    {
     "data": {
      "image/png": "[encoded data removed]",
      "text/plain": [
       "<Figure size 720x288 with 2 Axes>"
      ]
     },
     "metadata": {
      "needs_background": "light",
      "tags": []
     },
     "output_type": "display_data"
    }
   ],
   "source": [
    "from sklearn.metrics import roc_curve\n",
    "from sklearn.metrics import plot_roc_curve, plot_precision_recall_curve\n",
    "\n",
    "fig, axes = plt.subplots(1, 2, figsize=(10, 4))\n",
    "plot_roc_curve(xgbclassifier1, X_test, y_test, name=\"xgb_orinal\", ax=axes[0])\n",
    "# plot_roc_curve(undersample_pipe_xgb, X_test, y_test, name=\"undersampling\", ax=axes[0])\n",
    "# plot_roc_curve(resampled_xgb, X_test, y_test, name=\"balanced bagging\", ax=axes[0])\n",
    "# plot_roc_curve(xgb_t_crw50, X_test, y_test, name=\"class re-weight50\", ax=axes[0])\n",
    "# plot_roc_curve(xgb_t_crw99, X_test, y_test, name=\"class re-weight99\", ax=axes[0])\n",
    "axes[0].set_title(\"XGBclassifier ROC curve\")\n",
    "\n",
    "plot_precision_recall_curve(xgbclassifier1, X_test, y_test, name=\"xgb_orinal\", ax=axes[1])\n",
    "# plot_precision_recall_curve(undersample_pipe_xgb, X_test, y_test, name=\"undersampling\", ax=axes[1])\n",
    "# plot_precision_recall_curve(resampled_xgb, X_test, y_test, name=\"balanced bagging\", ax=axes[1])\n",
    "# plot_precision_recall_curve(xgb_t_crw50, X_test, y_test, name=\"class re-weight50\", ax=axes[1])\n",
    "# plot_precision_recall_curve(xgb_t_crw99, X_test, y_test, name=\"class re-weight99\", ax=axes[1])\n",
    "\n",
    "axes[1].set_title(\"XGBclassifier PR curve\")\n",
    "\n",
    "plt.tight_layout()"
   ]
  },
  {
   "cell_type": "markdown",
   "metadata": {
    "id": "dbsEZITz9rP6"
   },
   "source": [
    "ต่อมาใช้ gboost กับ subsample data ที่ทำการ balance data และดูผลของการทำนายของ model โดยสร้างเป็น Confusion metric และ plot ออกมาเป็น ROC curve & PR curve"
   ]
  },
  {
   "cell_type": "markdown",
   "metadata": {
    "id": "jnkTdSPd9rP6"
   },
   "source": [
    "XGboost classification with Undersampling (subsample)"
   ]
  },
  {
   "cell_type": "code",
   "execution_count": null,
   "metadata": {
    "id": "orcfdpGB9rP6"
   },
   "outputs": [],
   "source": [
    "from xgboost import XGBClassifier"
   ]
  },
  {
   "cell_type": "code",
   "execution_count": null,
   "metadata": {
    "id": "HBUV0f1DqAyv",
    "outputId": "062f2d1b-4a27-4571-d6c0-543154762799"
   },
   "outputs": [
    {
     "name": "stderr",
     "output_type": "stream",
     "text": [
      "C:\\Users\\t_tan\\anaconda3\\envs\\tf2.4\\lib\\site-packages\\xgboost\\sklearn.py:888: UserWarning: The use of label encoder in XGBClassifier is deprecated and will be removed in a future release. To remove this warning, do the following: 1) Pass option use_label_encoder=False when constructing XGBClassifier object; and 2) Encode your labels (y) as integers starting with 0, i.e. 0, 1, 2, ..., [num_class - 1].\n",
      "  warnings.warn(label_encoder_deprecation_msg, UserWarning)\n"
     ]
    },
    {
     "name": "stdout",
     "output_type": "stream",
     "text": [
      "[23:35:54] WARNING: C:/Users/Administrator/workspace/xgboost-win64_release_1.3.0/src/learner.cc:1061: Starting in XGBoost 1.3.0, the default evaluation metric used with the objective 'binary:logistic' was changed from 'error' to 'logloss'. Explicitly set eval_metric if you'd like to restore the old behavior.\n",
      "Wall time: 412 ms\n"
     ]
    },
    {
     "data": {
      "text/plain": [
       "XGBClassifier(base_score=0.5, booster='gbtree', colsample_bylevel=1,\n",
       "              colsample_bynode=1, colsample_bytree=0.6, gamma=0, gpu_id=-1,\n",
       "              importance_type='gain', interaction_constraints='',\n",
       "              learning_rate=0.3, max_delta_step=0, max_depth=6,\n",
       "              min_child_weight=1, missing=nan, monotone_constraints='()',\n",
       "              n_estimators=57, n_jobs=12, num_parallel_tree=1, random_state=1,\n",
       "              reg_alpha=0, reg_lambda=1, scale_pos_weight=1, seed=1,\n",
       "              subsample=1, tree_method='exact', validate_parameters=1,\n",
       "              verbosity=None)"
      ]
     },
     "execution_count": 110,
     "metadata": {
      "tags": []
     },
     "output_type": "execute_result"
    }
   ],
   "source": [
    "%%time\n",
    "from xgboost import XGBClassifier\n",
    "xgbclassifier = XGBClassifier(learning_rate =0.3,\n",
    "                n_estimators=57,\n",
    "                max_depth=6,\n",
    "                objective='binary:logistic',\n",
    "                colsample_bytree=0.6,\n",
    "                seed=1)\n",
    "xgbclassifier.fit(X_train_subsample, y_train_subsample)"
   ]
  },
  {
   "cell_type": "markdown",
   "metadata": {
    "id": "yyxW5b395mR2"
   },
   "source": [
    "## Predicting a new result on newdriver"
   ]
  },
  {
   "cell_type": "markdown",
   "metadata": {
    "id": "Pav3rfGZgPL8"
   },
   "source": [
    "### ลองใส่ชุดข้อมูลใหม่จากคนขับใหม่ที่ลองสร้างเองขึ้นมาครับว่า model ของเราใช้งานได้ และ ทำนายออกมาว่าจะโดนตรวจค้นยานพาหนะหรือไม่ และเมื่อสร้างข้อมูลขึ้นมาใหม่ จะต้องทำการ OneHotEncoder กับข้อมูลใหม่นี้ด้วยให้ตรงกับ shape ของการป้อนเข้าไปใส่ให้ model"
   ]
  },
  {
   "cell_type": "code",
   "execution_count": null,
   "metadata": {
    "id": "JeqvhPQzCon-",
    "outputId": "f0cb360f-bb17-42a9-d94f-f712d0f284f0"
   },
   "outputs": [
    {
     "data": {
      "text/plain": [
       "array([[0.0, 0.0, 0.0, 0.0, 0.0, 1.0, 0.0, 0.0, 0.0, 0.0, 1.0, 1.0, 0.0,\n",
       "        0.0, 0.0, 0.0, 0.0, 0.0, 0.0, 0.0, 0.0, 1.0, 0.0, 0.0, 0.0, True,\n",
       "        False, False, False, False, False]], dtype=object)"
      ]
     },
     "execution_count": 111,
     "metadata": {
      "tags": []
     },
     "output_type": "execute_result"
    }
   ],
   "source": [
    "# ให้ สมมตคนขับรถขึ้นมาหนึ่งคัน โดยมีข้อมูลดังนี้\n",
    "newdriver = [['X4', 'white', 'female', True, False, False, False, False, False, 'Speeding']]\n",
    "newdriver_encode = np.array(ct.transform(newdriver))\n",
    "\n",
    "newdriver_encode"
   ]
  },
  {
   "cell_type": "markdown",
   "metadata": {
    "id": "XGrdjJDSg5Iw"
   },
   "source": [
    "### ต้องทำการ scaling ก่อนเข้า model ด้วย\n",
    "\n"
   ]
  },
  {
   "cell_type": "code",
   "execution_count": null,
   "metadata": {
    "id": "FaPtYuYfFcUf",
    "outputId": "5af69652-f157-4dab-d15a-b188b0480679"
   },
   "outputs": [
    {
     "name": "stdout",
     "output_type": "stream",
     "text": [
      "[[-0.313623   -0.46137793 -0.57423156 -0.13727179 -0.43673547  1.49791307\n",
      "  -0.15078011 -0.47769566 -0.41421161 -0.04325055  0.74404942  1.94556743\n",
      "  -1.94556743 -0.061512   -0.15619067 -0.46182716 -0.05447924 -0.54377484\n",
      "  -0.27323502 -0.17279719 -0.13687166  1.12411581 -0.05349472 -0.05671081\n",
      "  -0.02785015  0.57998083 -0.22423882 -0.3937376  -0.12045897 -0.1812641\n",
      "  -0.59728859]]\n",
      "(1, 31)\n"
     ]
    }
   ],
   "source": [
    "newdriver_scale = sc.transform(newdriver_encode)\n",
    "print(newdriver_scale)\n",
    "print(newdriver_scale.shape)"
   ]
  },
  {
   "cell_type": "code",
   "execution_count": null,
   "metadata": {
    "id": "-vrz6BQLtUfz",
    "outputId": "3b5068a8-37c9-4840-d4b7-0ed7ba03ae3e"
   },
   "outputs": [
    {
     "name": "stdout",
     "output_type": "stream",
     "text": [
      "[0]\n"
     ]
    }
   ],
   "source": [
    "print(xgbclassifier.predict(newdriver_scale))"
   ]
  },
  {
   "cell_type": "code",
   "execution_count": null,
   "metadata": {
    "id": "SLJevncbs68Z",
    "outputId": "3f264646-e0cf-4148-cfb3-964af8862ea9"
   },
   "outputs": [
    {
     "data": {
      "text/plain": [
       "array([[0.96493864, 0.03506137]], dtype=float32)"
      ]
     },
     "execution_count": 114,
     "metadata": {
      "tags": []
     },
     "output_type": "execute_result"
    }
   ],
   "source": [
    "xgbclassifier.predict_proba(sc.transform(newdriver_scale))"
   ]
  },
  {
   "cell_type": "markdown",
   "metadata": {
    "id": "vKYVQH-l5NpE"
   },
   "source": [
    "## Predicting the Test set results"
   ]
  },
  {
   "cell_type": "markdown",
   "metadata": {
    "id": "MyJQxoF6exSp"
   },
   "source": [
    "### มาลองทดสอบวัดผลของ model โดยใช้ Test set ที่แยกไว้ตั้งแต่แรก ซึ่งเรามีผลลัพธ์ที่เกิดขึ้นจริงมาเปรียบเทียบกับโมเดล ทำให้เราสามารถวัดประสิทธิภาพความแม่นยำ ความเที่ยงตรง และค่าการวัดผลรูปแบบต่างๆ ได้จาก Test set นี้"
   ]
  },
  {
   "cell_type": "code",
   "execution_count": null,
   "metadata": {
    "id": "oHb6fzr5uMzU",
    "outputId": "a99a0a8e-aefb-41bc-d9fe-175e7fe6c8bb"
   },
   "outputs": [
    {
     "data": {
      "text/plain": [
       "array([0, 0, 0, ..., 0, 0, 0], dtype=int64)"
      ]
     },
     "execution_count": 115,
     "metadata": {
      "tags": []
     },
     "output_type": "execute_result"
    }
   ],
   "source": [
    "xgbclassifier.predict(X_test)"
   ]
  },
  {
   "cell_type": "code",
   "execution_count": null,
   "metadata": {
    "id": "abWuB5qDumx3",
    "outputId": "b044d7dc-467c-4799-f637-1c2d3328b0f4"
   },
   "outputs": [
    {
     "name": "stdout",
     "output_type": "stream",
     "text": [
      "[[0 0]\n",
      " [0 0]\n",
      " [0 0]\n",
      " ...\n",
      " [0 0]\n",
      " [0 0]\n",
      " [0 0]]\n",
      "(96117,)\n"
     ]
    }
   ],
   "source": [
    "y_pred = xgbclassifier.predict(X_test)\n",
    "print(np.concatenate((y_pred.reshape(len(y_pred), 1), y_test.reshape(len(y_test),1)), axis=1))\n",
    "print(y_pred.shape)"
   ]
  },
  {
   "cell_type": "markdown",
   "metadata": {
    "id": "vovPJ0lXwJaw"
   },
   "source": [
    "ตัวแรกคือ predict และ ตัวที่สองคือค่าจริง ที่คนโดนตรวจค้นในรถหรือไม่โดน  \n",
    "0 คือไม่โดน  \n",
    "1 คือโดนตรวจค้นรถ"
   ]
  },
  {
   "cell_type": "markdown",
   "metadata": {
    "id": "h4Hwj34ziWQW"
   },
   "source": [
    "## Making the Confusion Matrix\n",
    "\n",
    "ใช้ Confusion Matrix มาช่วยในการ evaluation"
   ]
  },
  {
   "cell_type": "code",
   "execution_count": null,
   "metadata": {
    "id": "ZbJXzGkbumFJ",
    "outputId": "f2b4208a-aeda-4fc7-a550-11a88977a0a6"
   },
   "outputs": [
    {
     "name": "stdout",
     "output_type": "stream",
     "text": [
      "[[88521  4027]\n",
      " [  592  2977]]\n",
      "accuracy_score : 0.9519439849350271\n",
      "roc_auc_score : 0.8953073254268105\n",
      "recall_score : 0.8341272065004203\n"
     ]
    },
    {
     "data": {
      "text/plain": [
       "<sklearn.metrics._plot.confusion_matrix.ConfusionMatrixDisplay at 0x29cdc595280>"
      ]
     },
     "execution_count": 117,
     "metadata": {
      "tags": []
     },
     "output_type": "execute_result"
    },
    {
     "data": {
      "image/png": "[encoded data removed]",
      "text/plain": [
       "<Figure size 432x288 with 2 Axes>"
      ]
     },
     "metadata": {
      "needs_background": "light",
      "tags": []
     },
     "output_type": "display_data"
    }
   ],
   "source": [
    "%matplotlib inline\n",
    "from sklearn.metrics import confusion_matrix, accuracy_score, ConfusionMatrixDisplay, roc_auc_score, recall_score\n",
    "cm = confusion_matrix(y_test, y_pred)\n",
    "print(cm)\n",
    "print(\"accuracy_score :\", accuracy_score(y_test, y_pred))\n",
    "print(\"roc_auc_score :\", roc_auc_score(y_test, y_pred))\n",
    "print(\"recall_score :\", recall_score(y_test, y_pred))\n",
    "      \n",
    "cmd = ConfusionMatrixDisplay(confusion_matrix=cm, display_labels=['No','Yes'])\n",
    "cmd.plot()"
   ]
  },
  {
   "cell_type": "markdown",
   "metadata": {
    "id": "uZfrtYT8rCok"
   },
   "source": [
    "หาค่าประสิทธิภาพอื่นๆของ xgbclassification model ของตัวนี้เพิ่มเติม จะเห็นชัดเจนว่า recall ดีขึ้นอย่างมากจาก model เดิมจาก part2 ซึ่งมีค่า racall  0.667"
   ]
  },
  {
   "cell_type": "markdown",
   "metadata": {
    "id": "SZ-j28aPihZx"
   },
   "source": [
    "## Visualising the ROC curve & PR curve\n",
    "เป็นการวัดประสิทธิภาพที่ของ binary classification "
   ]
  },
  {
   "cell_type": "code",
   "execution_count": null,
   "metadata": {
    "id": "2uy0vrlfyX9c",
    "outputId": "9058a27a-39cb-4166-e348-1eea2c3143c0"
   },
   "outputs": [
    {
     "data": {
      "image/png": "[encoded data removed]",
      "text/plain": [
       "<Figure size 720x288 with 2 Axes>"
      ]
     },
     "metadata": {
      "needs_background": "light",
      "tags": []
     },
     "output_type": "display_data"
    }
   ],
   "source": [
    "from sklearn.metrics import roc_curve\n",
    "from sklearn.metrics import plot_roc_curve, plot_precision_recall_curve\n",
    "\n",
    "fig, axes = plt.subplots(1, 2, figsize=(10, 4))\n",
    "plot_roc_curve(xgbclassifier, X_test, y_test, name=\"xgb_undersampling\", ax=axes[0])\n",
    "# plot_roc_curve(undersample_pipe_xgb, X_test, y_test, name=\"undersampling\", ax=axes[0])\n",
    "# plot_roc_curve(resampled_xgb, X_test, y_test, name=\"balanced bagging\", ax=axes[0])\n",
    "# plot_roc_curve(xgb_t_crw50, X_test, y_test, name=\"class re-weight50\", ax=axes[0])\n",
    "# plot_roc_curve(xgb_t_crw99, X_test, y_test, name=\"class re-weight99\", ax=axes[0])\n",
    "axes[0].set_title(\"XGBclassifier ROC curve\")\n",
    "\n",
    "plot_precision_recall_curve(xgbclassifier, X_test, y_test, name=\"xgb_undersampling\", ax=axes[1])\n",
    "# plot_precision_recall_curve(undersample_pipe_xgb, X_test, y_test, name=\"undersampling\", ax=axes[1])\n",
    "# plot_precision_recall_curve(resampled_xgb, X_test, y_test, name=\"balanced bagging\", ax=axes[1])\n",
    "# plot_precision_recall_curve(xgb_t_crw50, X_test, y_test, name=\"class re-weight50\", ax=axes[1])\n",
    "# plot_precision_recall_curve(xgb_t_crw99, X_test, y_test, name=\"class re-weight99\", ax=axes[1])\n",
    "\n",
    "axes[1].set_title(\"XGBclassifier PR curve\")\n",
    "\n",
    "plt.tight_layout()"
   ]
  },
  {
   "cell_type": "markdown",
   "metadata": {
    "id": "U7-p3PS09rP-"
   },
   "source": [
    "##  Display classification performance metrics"
   ]
  },
  {
   "cell_type": "code",
   "execution_count": null,
   "metadata": {
    "id": "7lDM0KLVrBC3",
    "outputId": "1f0a2c3e-e6d8-4323-ae83-65469fd71757"
   },
   "outputs": [
    {
     "name": "stdout",
     "output_type": "stream",
     "text": [
      "Performance:\n",
      " >accuracy = 0.9519439849350271\n",
      " >precision = 0.4250428326670474\n",
      " >recall = 0.8341272065004203\n",
      " >f1-score = 0.5631325073299915\n"
     ]
    }
   ],
   "source": [
    "from sklearn.metrics import accuracy_score, precision_score, recall_score, f1_score\n",
    "accuracy = accuracy_score(y_test, y_pred)\n",
    "precision = precision_score(y_test, y_pred)\n",
    "recall = recall_score(y_test, y_pred)\n",
    "f1 = f1_score(y_test, y_pred)\n",
    "print(\"Performance:\")\n",
    "print(\" >accuracy = \" + str(accuracy))\n",
    "print(\" >precision = \" + str(precision))\n",
    "print(\" >recall = \" + str(recall))\n",
    "print(\" >f1-score = \" + str(f1))\n"
   ]
  },
  {
   "cell_type": "markdown",
   "metadata": {
    "id": "plvocDpEw8fi"
   },
   "source": [
    "ตัวโมเดล จะสนใจที่ recall และ PR curve เป็นหลักสำคัญซึ่ง ได้ค่าที่สุดตาม best_parameters ที่ได้ปรับจูนแล้ว  ซึ่งสามารถวัดค่าความสามารถในการทำนายได้ดีกว่า การทำ model ของบทความนี้ใน part2 อย่างมีนัยสำคัญ\n",
    "หากดูเส้นกราฟนี้แล้วจะสามารถพิจารณาได้ว่าผลการทำนายของเรานั้นดีแค่ไหนโดยทั่วไปจะถือว่าหากกราฟยิ่ง ชิดด้านบนขวาของ PR curve มากก็ยิ่งแปลว่าทำนายได้ดี แต่หากกราฟเป็นเส้นตรงจะแสดงว่าไม่ดี "
   ]
  },
  {
   "cell_type": "markdown",
   "metadata": {
    "id": "FJHh2pdvotkJ"
   },
   "source": [
    "หมายความว่า ยิ่งเส้นใน PR curve chart ใกล้ไปข้างบนขวามากเท่าไหร่ก็แสดงว่า model ของเรา ทำการแยกแยะ ได้อย่างถูกต้องกว่า เช่น สมมติว่า มีของผิด กฏหมายในรถ ถ้าทำนายว่าโดนตรวจค้นแน่ๆ ก็จะกลัวก็อาจจะไม่ขับรถวันนี้ แต่ถ้า ทำนายว่าไม่โดนจับแน่แต่ทำนายผิด สุดท้ายแล้วเป็นความหวังที่คิดว่าไม่โดนตรวจค้น พอไปขับรถจริงโดนเรียกตรวจค้นก็เจอสิ่งผิดกฏหมายในรถ False Negative เป็น error type2\n",
    "    ส่วนนี้เองคือ sensitivity หรือ recall นั่นเอง ถ้าค่า recall ต่ำจะเกิด False Negative เยอะทำให้การที่ทำนายว่า รถคันนี้จะไม่ถูกตรวจแต่สุดท้ายจะโดนตำรวจทำการตรวจค้น  \n",
    "    \n",
    "    "
   ]
  },
  {
   "cell_type": "markdown",
   "metadata": {
    "id": "lpYVtk9a9rP_"
   },
   "source": [
    "XGboost classification original data (imbalance data)"
   ]
  },
  {
   "cell_type": "markdown",
   "metadata": {
    "id": "Hofq_-CN9rP_"
   },
   "source": [
    "## ลอง rasampling ดู"
   ]
  },
  {
   "cell_type": "markdown",
   "metadata": {
    "id": "NFrX9wGs9rP_"
   },
   "source": [
    "XGboost classification Ensemble resampling"
   ]
  },
  {
   "cell_type": "code",
   "execution_count": null,
   "metadata": {
    "id": "hKvl5pYb9rP_",
    "outputId": "938df4fd-221c-45d9-a5e1-30c1d634997b"
   },
   "outputs": [
    {
     "name": "stderr",
     "output_type": "stream",
     "text": [
      "C:\\Users\\t_tan\\anaconda3\\envs\\tf2.4\\lib\\site-packages\\xgboost\\sklearn.py:888: UserWarning: The use of label encoder in XGBClassifier is deprecated and will be removed in a future release. To remove this warning, do the following: 1) Pass option use_label_encoder=False when constructing XGBClassifier object; and 2) Encode your labels (y) as integers starting with 0, i.e. 0, 1, 2, ..., [num_class - 1].\n",
      "  warnings.warn(label_encoder_deprecation_msg, UserWarning)\n"
     ]
    },
    {
     "name": "stdout",
     "output_type": "stream",
     "text": [
      "[23:38:33] WARNING: C:/Users/Administrator/workspace/xgboost-win64_release_1.3.0/src/learner.cc:1061: Starting in XGBoost 1.3.0, the default evaluation metric used with the objective 'binary:logistic' was changed from 'error' to 'logloss'. Explicitly set eval_metric if you'd like to restore the old behavior.\n"
     ]
    },
    {
     "name": "stderr",
     "output_type": "stream",
     "text": [
      "C:\\Users\\t_tan\\anaconda3\\envs\\tf2.4\\lib\\site-packages\\xgboost\\sklearn.py:888: UserWarning: The use of label encoder in XGBClassifier is deprecated and will be removed in a future release. To remove this warning, do the following: 1) Pass option use_label_encoder=False when constructing XGBClassifier object; and 2) Encode your labels (y) as integers starting with 0, i.e. 0, 1, 2, ..., [num_class - 1].\n",
      "  warnings.warn(label_encoder_deprecation_msg, UserWarning)\n"
     ]
    },
    {
     "name": "stdout",
     "output_type": "stream",
     "text": [
      "[23:38:34] WARNING: C:/Users/Administrator/workspace/xgboost-win64_release_1.3.0/src/learner.cc:1061: Starting in XGBoost 1.3.0, the default evaluation metric used with the objective 'binary:logistic' was changed from 'error' to 'logloss'. Explicitly set eval_metric if you'd like to restore the old behavior.\n"
     ]
    },
    {
     "name": "stderr",
     "output_type": "stream",
     "text": [
      "C:\\Users\\t_tan\\anaconda3\\envs\\tf2.4\\lib\\site-packages\\xgboost\\sklearn.py:888: UserWarning: The use of label encoder in XGBClassifier is deprecated and will be removed in a future release. To remove this warning, do the following: 1) Pass option use_label_encoder=False when constructing XGBClassifier object; and 2) Encode your labels (y) as integers starting with 0, i.e. 0, 1, 2, ..., [num_class - 1].\n",
      "  warnings.warn(label_encoder_deprecation_msg, UserWarning)\n"
     ]
    },
    {
     "name": "stdout",
     "output_type": "stream",
     "text": [
      "[23:38:35] WARNING: C:/Users/Administrator/workspace/xgboost-win64_release_1.3.0/src/learner.cc:1061: Starting in XGBoost 1.3.0, the default evaluation metric used with the objective 'binary:logistic' was changed from 'error' to 'logloss'. Explicitly set eval_metric if you'd like to restore the old behavior.\n"
     ]
    },
    {
     "name": "stderr",
     "output_type": "stream",
     "text": [
      "C:\\Users\\t_tan\\anaconda3\\envs\\tf2.4\\lib\\site-packages\\xgboost\\sklearn.py:888: UserWarning: The use of label encoder in XGBClassifier is deprecated and will be removed in a future release. To remove this warning, do the following: 1) Pass option use_label_encoder=False when constructing XGBClassifier object; and 2) Encode your labels (y) as integers starting with 0, i.e. 0, 1, 2, ..., [num_class - 1].\n",
      "  warnings.warn(label_encoder_deprecation_msg, UserWarning)\n"
     ]
    },
    {
     "name": "stdout",
     "output_type": "stream",
     "text": [
      "[23:38:36] WARNING: C:/Users/Administrator/workspace/xgboost-win64_release_1.3.0/src/learner.cc:1061: Starting in XGBoost 1.3.0, the default evaluation metric used with the objective 'binary:logistic' was changed from 'error' to 'logloss'. Explicitly set eval_metric if you'd like to restore the old behavior.\n"
     ]
    },
    {
     "name": "stderr",
     "output_type": "stream",
     "text": [
      "C:\\Users\\t_tan\\anaconda3\\envs\\tf2.4\\lib\\site-packages\\xgboost\\sklearn.py:888: UserWarning: The use of label encoder in XGBClassifier is deprecated and will be removed in a future release. To remove this warning, do the following: 1) Pass option use_label_encoder=False when constructing XGBClassifier object; and 2) Encode your labels (y) as integers starting with 0, i.e. 0, 1, 2, ..., [num_class - 1].\n",
      "  warnings.warn(label_encoder_deprecation_msg, UserWarning)\n"
     ]
    },
    {
     "name": "stdout",
     "output_type": "stream",
     "text": [
      "[23:38:37] WARNING: C:/Users/Administrator/workspace/xgboost-win64_release_1.3.0/src/learner.cc:1061: Starting in XGBoost 1.3.0, the default evaluation metric used with the objective 'binary:logistic' was changed from 'error' to 'logloss'. Explicitly set eval_metric if you'd like to restore the old behavior.\n"
     ]
    },
    {
     "name": "stderr",
     "output_type": "stream",
     "text": [
      "C:\\Users\\t_tan\\anaconda3\\envs\\tf2.4\\lib\\site-packages\\xgboost\\sklearn.py:888: UserWarning: The use of label encoder in XGBClassifier is deprecated and will be removed in a future release. To remove this warning, do the following: 1) Pass option use_label_encoder=False when constructing XGBClassifier object; and 2) Encode your labels (y) as integers starting with 0, i.e. 0, 1, 2, ..., [num_class - 1].\n",
      "  warnings.warn(label_encoder_deprecation_msg, UserWarning)\n"
     ]
    },
    {
     "name": "stdout",
     "output_type": "stream",
     "text": [
      "[23:38:37] WARNING: C:/Users/Administrator/workspace/xgboost-win64_release_1.3.0/src/learner.cc:1061: Starting in XGBoost 1.3.0, the default evaluation metric used with the objective 'binary:logistic' was changed from 'error' to 'logloss'. Explicitly set eval_metric if you'd like to restore the old behavior.\n"
     ]
    },
    {
     "name": "stderr",
     "output_type": "stream",
     "text": [
      "C:\\Users\\t_tan\\anaconda3\\envs\\tf2.4\\lib\\site-packages\\xgboost\\sklearn.py:888: UserWarning: The use of label encoder in XGBClassifier is deprecated and will be removed in a future release. To remove this warning, do the following: 1) Pass option use_label_encoder=False when constructing XGBClassifier object; and 2) Encode your labels (y) as integers starting with 0, i.e. 0, 1, 2, ..., [num_class - 1].\n",
      "  warnings.warn(label_encoder_deprecation_msg, UserWarning)\n"
     ]
    },
    {
     "name": "stdout",
     "output_type": "stream",
     "text": [
      "[23:38:38] WARNING: C:/Users/Administrator/workspace/xgboost-win64_release_1.3.0/src/learner.cc:1061: Starting in XGBoost 1.3.0, the default evaluation metric used with the objective 'binary:logistic' was changed from 'error' to 'logloss'. Explicitly set eval_metric if you'd like to restore the old behavior.\n"
     ]
    },
    {
     "name": "stderr",
     "output_type": "stream",
     "text": [
      "C:\\Users\\t_tan\\anaconda3\\envs\\tf2.4\\lib\\site-packages\\xgboost\\sklearn.py:888: UserWarning: The use of label encoder in XGBClassifier is deprecated and will be removed in a future release. To remove this warning, do the following: 1) Pass option use_label_encoder=False when constructing XGBClassifier object; and 2) Encode your labels (y) as integers starting with 0, i.e. 0, 1, 2, ..., [num_class - 1].\n",
      "  warnings.warn(label_encoder_deprecation_msg, UserWarning)\n"
     ]
    },
    {
     "name": "stdout",
     "output_type": "stream",
     "text": [
      "[23:38:39] WARNING: C:/Users/Administrator/workspace/xgboost-win64_release_1.3.0/src/learner.cc:1061: Starting in XGBoost 1.3.0, the default evaluation metric used with the objective 'binary:logistic' was changed from 'error' to 'logloss'. Explicitly set eval_metric if you'd like to restore the old behavior.\n"
     ]
    },
    {
     "name": "stderr",
     "output_type": "stream",
     "text": [
      "C:\\Users\\t_tan\\anaconda3\\envs\\tf2.4\\lib\\site-packages\\xgboost\\sklearn.py:888: UserWarning: The use of label encoder in XGBClassifier is deprecated and will be removed in a future release. To remove this warning, do the following: 1) Pass option use_label_encoder=False when constructing XGBClassifier object; and 2) Encode your labels (y) as integers starting with 0, i.e. 0, 1, 2, ..., [num_class - 1].\n",
      "  warnings.warn(label_encoder_deprecation_msg, UserWarning)\n"
     ]
    },
    {
     "name": "stdout",
     "output_type": "stream",
     "text": [
      "[23:38:40] WARNING: C:/Users/Administrator/workspace/xgboost-win64_release_1.3.0/src/learner.cc:1061: Starting in XGBoost 1.3.0, the default evaluation metric used with the objective 'binary:logistic' was changed from 'error' to 'logloss'. Explicitly set eval_metric if you'd like to restore the old behavior.\n"
     ]
    },
    {
     "name": "stderr",
     "output_type": "stream",
     "text": [
      "C:\\Users\\t_tan\\anaconda3\\envs\\tf2.4\\lib\\site-packages\\xgboost\\sklearn.py:888: UserWarning: The use of label encoder in XGBClassifier is deprecated and will be removed in a future release. To remove this warning, do the following: 1) Pass option use_label_encoder=False when constructing XGBClassifier object; and 2) Encode your labels (y) as integers starting with 0, i.e. 0, 1, 2, ..., [num_class - 1].\n",
      "  warnings.warn(label_encoder_deprecation_msg, UserWarning)\n"
     ]
    },
    {
     "name": "stdout",
     "output_type": "stream",
     "text": [
      "[23:38:41] WARNING: C:/Users/Administrator/workspace/xgboost-win64_release_1.3.0/src/learner.cc:1061: Starting in XGBoost 1.3.0, the default evaluation metric used with the objective 'binary:logistic' was changed from 'error' to 'logloss'. Explicitly set eval_metric if you'd like to restore the old behavior.\n",
      "Wall time: 8.25 s\n"
     ]
    },
    {
     "data": {
      "text/plain": [
       "BalancedBaggingClassifier(base_estimator=XGBClassifier(base_score=None,\n",
       "                                                       booster=None,\n",
       "                                                       colsample_bylevel=None,\n",
       "                                                       colsample_bynode=None,\n",
       "                                                       colsample_bytree=None,\n",
       "                                                       gamma=None, gpu_id=None,\n",
       "                                                       importance_type='gain',\n",
       "                                                       interaction_constraints=None,\n",
       "                                                       learning_rate=0.3,\n",
       "                                                       max_delta_step=None,\n",
       "                                                       max_depth=6,\n",
       "                                                       min_child_weight=None,\n",
       "                                                       missing=nan,\n",
       "                                                       monotone_constraints=None,\n",
       "                                                       n_estimators=57,\n",
       "                                                       n_jobs=None,\n",
       "                                                       num_parallel_tree=None,\n",
       "                                                       random_state=None,\n",
       "                                                       reg_alpha=None,\n",
       "                                                       reg_lambda=None,\n",
       "                                                       scale_pos_weight=None,\n",
       "                                                       seed=1, subsample=None,\n",
       "                                                       tree_method=None,\n",
       "                                                       validate_parameters=None,\n",
       "                                                       verbosity=None),\n",
       "                          random_state=0)"
      ]
     },
     "execution_count": 121,
     "metadata": {
      "tags": []
     },
     "output_type": "execute_result"
    }
   ],
   "source": [
    "%%time\n",
    "from imblearn.ensemble import BalancedBaggingClassifier\n",
    "# from sklearn.model_selection import cross_validate\n",
    "\n",
    "resampled_xgb1 = BalancedBaggingClassifier(XGBClassifier(learning_rate =0.3,\n",
    "                        n_estimators=57,\n",
    "                        max_depth=6,\n",
    "                        objective='binary:logistic',\n",
    "                        seed=1),\n",
    "                        n_estimators=10, random_state=0)\n",
    "resampled_xgb1.fit(X_train, y_train)\n",
    "# scores = cross_validate(resampled_xgb,\n",
    "#                         X_train, y_train, cv=5, scoring=('roc_auc', 'average_precision'))\n",
    "# scores['test_roc_auc'].mean(), scores['test_average_precision'].mean()"
   ]
  },
  {
   "cell_type": "code",
   "execution_count": null,
   "metadata": {
    "id": "UztIGhuo9rQA",
    "outputId": "844b09c5-b4a9-4e2a-dab8-c1795fda8597"
   },
   "outputs": [
    {
     "name": "stdout",
     "output_type": "stream",
     "text": [
      "[[0 0]\n",
      " [0 0]\n",
      " [0 0]\n",
      " ...\n",
      " [0 0]\n",
      " [0 0]\n",
      " [0 0]]\n",
      "(96117,)\n",
      "[[88635  3913]\n",
      " [  593  2976]]\n",
      "accuracy_score : 0.9531196354443022\n",
      "roc_auc_score : 0.8957831267778404\n",
      "recall_score : 0.8338470159708602\n"
     ]
    },
    {
     "data": {
      "text/plain": [
       "<sklearn.metrics._plot.confusion_matrix.ConfusionMatrixDisplay at 0x29c800a9400>"
      ]
     },
     "execution_count": 122,
     "metadata": {
      "tags": []
     },
     "output_type": "execute_result"
    },
    {
     "data": {
      "image/png": "[encoded data removed]",
      "text/plain": [
       "<Figure size 432x288 with 2 Axes>"
      ]
     },
     "metadata": {
      "needs_background": "light",
      "tags": []
     },
     "output_type": "display_data"
    }
   ],
   "source": [
    "y_pred2 = resampled_xgb1.predict(X_test)\n",
    "print(np.concatenate((y_pred2.reshape(len(y_pred2), 1), y_test.reshape(len(y_test),1)), axis=1))\n",
    "print(y_pred2.shape)\n",
    "\n",
    "%matplotlib inline\n",
    "from sklearn.metrics import confusion_matrix, accuracy_score, ConfusionMatrixDisplay, roc_auc_score, recall_score\n",
    "cm2 = confusion_matrix(y_test, y_pred2)\n",
    "print(cm2)\n",
    "print(\"accuracy_score :\", accuracy_score(y_test, y_pred2))\n",
    "print(\"roc_auc_score :\", roc_auc_score(y_test, y_pred2))\n",
    "print(\"recall_score :\", recall_score(y_test, y_pred2))\n",
    "      \n",
    "cmd2 = ConfusionMatrixDisplay(confusion_matrix=cm2, display_labels=['No','Yes'])\n",
    "cmd2.plot()"
   ]
  },
  {
   "cell_type": "code",
   "execution_count": null,
   "metadata": {
    "id": "If-dKnIo9rQA",
    "outputId": "0c95aae2-b143-471c-9d2b-192a60ae46a1"
   },
   "outputs": [
    {
     "data": {
      "image/png": "[encoded data removed]",
      "text/plain": [
       "<Figure size 720x288 with 2 Axes>"
      ]
     },
     "metadata": {
      "needs_background": "light",
      "tags": []
     },
     "output_type": "display_data"
    }
   ],
   "source": [
    "from sklearn.metrics import roc_curve\n",
    "from sklearn.metrics import plot_roc_curve, plot_precision_recall_curve\n",
    "\n",
    "fig, axes = plt.subplots(1, 2, figsize=(10, 4))\n",
    "\n",
    "plot_roc_curve(resampled_xgb1, X_test, y_test, name=\"xgb_resample\", ax=axes[0])\n",
    "\n",
    "# plot_roc_curve(resampled_xgb, X_test, y_test, name=\"balanced bagging\", ax=axes[0])\n",
    "# plot_roc_curve(xgb_t_crw50, X_test, y_test, name=\"class re-weight50\", ax=axes[0])\n",
    "# plot_roc_curve(xgb_t_crw99, X_test, y_test, name=\"class re-weight99\", ax=axes[0])\n",
    "axes[0].set_title(\"XGBclassifier ROC curve\")\n",
    "\n",
    "plot_precision_recall_curve(resampled_xgb1, X_test, y_test, name=\"xgb_resample\", ax=axes[1])\n",
    "# plot_precision_recall_curve(undersample_pipe_xgb, X_test, y_test, name=\"undersampling\", ax=axes[1])\n",
    "# plot_precision_recall_curve(resampled_xgb, X_test, y_test, name=\"balanced bagging\", ax=axes[1])\n",
    "# plot_precision_recall_curve(xgb_t_crw50, X_test, y_test, name=\"class re-weight50\", ax=axes[1])\n",
    "# plot_precision_recall_curve(xgb_t_crw99, X_test, y_test, name=\"class re-weight99\", ax=axes[1])\n",
    "\n",
    "axes[1].set_title(\"XGBclassifier PR curve\")\n",
    "\n",
    "plt.tight_layout()"
   ]
  },
  {
   "cell_type": "markdown",
   "metadata": {
    "id": "cgd0fcX89rQA"
   },
   "source": [
    "Comparison XGBclassifier on original data(imbalance) and balanced data"
   ]
  },
  {
   "cell_type": "code",
   "execution_count": null,
   "metadata": {
    "id": "zzKdX1gC9rQA",
    "outputId": "b32069b6-3cfb-4127-b302-f79d5219f965"
   },
   "outputs": [
    {
     "data": {
      "image/png": "[encoded data removed]",
      "text/plain": [
       "<Figure size 720x288 with 2 Axes>"
      ]
     },
     "metadata": {
      "needs_background": "light",
      "tags": []
     },
     "output_type": "display_data"
    }
   ],
   "source": [
    "from sklearn.metrics import roc_curve\n",
    "from sklearn.metrics import plot_roc_curve, plot_precision_recall_curve\n",
    "\n",
    "fig, axes = plt.subplots(1, 2, figsize=(10, 4))\n",
    "plot_roc_curve(xgbclassifier1, X_test, y_test, name=\"xgb_orinal\", ax=axes[0])\n",
    "plot_roc_curve(xgbclassifier, X_test, y_test, name=\"xgb_undersampling\", ax=axes[0])\n",
    "plot_roc_curve(resampled_xgb1, X_test, y_test, name=\"xgb_balance bagging\", ax=axes[0])\n",
    "\n",
    "axes[0].set_title(\"XGBclassifier ROC curve\")\n",
    "plot_precision_recall_curve(xgbclassifier1, X_test, y_test, name=\"xgb_orinal\", ax=axes[1])\n",
    "plot_precision_recall_curve(xgbclassifier, X_test, y_test, name=\"xgb_undersampling\", ax=axes[1])\n",
    "plot_precision_recall_curve(resampled_xgb1, X_test, y_test, name=\"xgb_balance bagging\", ax=axes[1])\n",
    "\n",
    "axes[1].set_title(\"XGBclassifier PR curve\")\n",
    "\n",
    "plt.tight_layout()"
   ]
  },
  {
   "cell_type": "markdown",
   "metadata": {
    "id": "IHnY5V309rQB"
   },
   "source": [
    "xgb_original recall_score : 0.677780891005884  \n",
    "xgb_undersampling recall_score : 0.8341272065004203  \n",
    "xgb_balance bagging recall_score : 0.8338470159708602"
   ]
  },
  {
   "cell_type": "markdown",
   "metadata": {
    "id": "AZ1X3Tvz9rQB"
   },
   "source": [
    "Undersampling ดีสุด  จากการเปรียบเทียบค่า recall"
   ]
  },
  {
   "cell_type": "markdown",
   "metadata": {
    "id": "fttoHIQm9rQB"
   },
   "source": [
    "## ลองใช้ PCA ในการ Feature Selection"
   ]
  },
  {
   "cell_type": "markdown",
   "metadata": {
    "id": "gnDLmNc_9rQB"
   },
   "source": [
    "## Visualization with PCA and t-SNE\n",
    "<p/>\n",
    "ให้ visualize data ลง 2D ด้วย PCA"
   ]
  },
  {
   "cell_type": "code",
   "execution_count": null,
   "metadata": {
    "id": "aSR_qwBW9rQB",
    "outputId": "cfbf2077-291f-46eb-9d31-bfa626163605"
   },
   "outputs": [
    {
     "data": {
      "image/png": "[encoded data removed]",
      "text/plain": [
       "<Figure size 432x288 with 1 Axes>"
      ]
     },
     "metadata": {
      "needs_background": "light",
      "tags": []
     },
     "output_type": "display_data"
    }
   ],
   "source": [
    "from sklearn.decomposition import PCA\n",
    "from sklearn.pipeline import make_pipeline\n",
    "from sklearn.preprocessing import StandardScaler\n",
    "\n",
    "# PCA scatter plot without making use of ground truth labels\n",
    "# Visualize data using PCA in 2D\n",
    "# Don't forget to scale the data using pipeline\n",
    "# your code here\n",
    "pca_scaled = make_pipeline(StandardScaler(), PCA(n_components=2)) \n",
    "X_pca_scaled = pca_scaled.fit_transform(X_train_subsample) #, y_train_subsample)\n",
    "plt.scatter(X_pca_scaled[:, 0], X_pca_scaled[:, 1], c=y_train_subsample, alpha=0.6)\n",
    "plt.xlabel(\"first principal component\")\n",
    "plt.ylabel(\"second principal component\")\n",
    "plt.show()"
   ]
  },
  {
   "cell_type": "code",
   "execution_count": null,
   "metadata": {
    "id": "pjkYSw1U9rQC"
   },
   "outputs": [],
   "source": [
    "namefea = ct.get_feature_names()"
   ]
  },
  {
   "cell_type": "code",
   "execution_count": null,
   "metadata": {
    "id": "qx6PHdjM9rQC",
    "outputId": "a874ec72-e5f9-47f0-ebc2-eab96ba1578e"
   },
   "outputs": [
    {
     "data": {
      "text/plain": [
       "<Figure size 1440x1080 with 0 Axes>"
      ]
     },
     "execution_count": 197,
     "metadata": {
      "tags": []
     },
     "output_type": "execute_result"
    },
    {
     "data": {
      "image/png": "[encoded data removed]",
      "text/plain": [
       "<Figure size 900x600 with 2 Axes>"
      ]
     },
     "metadata": {
      "needs_background": "light",
      "tags": []
     },
     "output_type": "display_data"
    },
    {
     "data": {
      "text/plain": [
       "<Figure size 1440x1080 with 0 Axes>"
      ]
     },
     "metadata": {
      "tags": []
     },
     "output_type": "display_data"
    }
   ],
   "source": [
    "pca = pca_scaled.named_steps['pca']\n",
    "components = pca.components_\n",
    "plt.imshow(components.T)\n",
    "plt.yticks(range(X.shape[1]), namefea)\n",
    "plt.colorbar()\n",
    "plt.figure(figsize=(8, 6), dpi=180)"
   ]
  },
  {
   "cell_type": "markdown",
   "metadata": {
    "id": "6eO4UKIF9rQC"
   },
   "source": [
    "จะเห็นจากรูปนี้ได้ชัดเจนว่า feature ที่มีผลกับ model มากคือตัวที่มีสี ไปทางเหลือเข้มและน้ำเงินเข้ม สีเขียวที่ค่า 0 คือตัวที่แทบไม่มีผลต่อ model ในการเลือก feature "
   ]
  },
  {
   "cell_type": "markdown",
   "metadata": {
    "id": "0bMYVtBO9rQC"
   },
   "source": [
    "### หาค่า PCA n_component ที่ดีสำหรับ model"
   ]
  },
  {
   "cell_type": "code",
   "execution_count": null,
   "metadata": {
    "id": "E23Hm5C19rQD",
    "outputId": "8d08633a-a259-4f25-ee28-b71ab63f09f3"
   },
   "outputs": [
    {
     "name": "stdout",
     "output_type": "stream",
     "text": [
      "Wall time: 167 ms\n"
     ]
    },
    {
     "data": {
      "image/png": "[encoded data removed]",
      "text/plain": [
       "<Figure size 432x504 with 2 Axes>"
      ]
     },
     "metadata": {
      "needs_background": "light",
      "tags": []
     },
     "output_type": "display_data"
    }
   ],
   "source": [
    "%%time\n",
    "import numpy as np\n",
    "import matplotlib.pyplot as plt\n",
    "import pandas as pd\n",
    "\n",
    "from sklearn.decomposition import PCA\n",
    "\n",
    "\n",
    "\n",
    "# Define a pipeline to search for the best combination of PCA truncation\n",
    "# and classifier regularization.\n",
    "pcaTT = PCA()\n",
    "\n",
    "pcaTT.fit(X_train_subsample, y_train_subsample)\n",
    "\n",
    "\n",
    "\n",
    "pca_var = pcaTT.explained_variance_ratio_\n",
    "pca_var_cum = np.cumsum(pca_var)\n",
    "\n",
    "fig, axes = plt.subplots(2, figsize=(6, 7))\n",
    "axes[0].bar(x=np.arange(len(pca_var)),height=pca_var_cum, alpha=0.3, label=pca_var_cum, color='r')\n",
    "axes[0].plot(pca_var)\n",
    "axes[1].semilogy(pca_var)\n",
    "\n",
    "for i in range(len(pca_var)):\n",
    "    axes[0].annotate(str('{:,.2%}'.format(pca_var_cum[i])),\n",
    "                     xy=(i,pca_var_cum[i])\n",
    "                     , ha='center', va='bottom')\n",
    "\n",
    "for ax in axes:\n",
    "    ax.set_xlabel(\"Component index\")\n",
    "    ax.set_ylabel(\"Explained variance ratio\")"
   ]
  },
  {
   "cell_type": "markdown",
   "metadata": {
    "id": "hoJNqFXR9rQD"
   },
   "source": [
    "เลือก PC 19 component และลอง ใช้ PCA ในการทำ feature selection"
   ]
  },
  {
   "cell_type": "markdown",
   "metadata": {
    "id": "u-Q4GYuy9rQD"
   },
   "source": [
    "pca ลองกับ original data โดยใช้ PCA n_component=19"
   ]
  },
  {
   "cell_type": "code",
   "execution_count": null,
   "metadata": {
    "id": "-NH09yIq9rQD",
    "outputId": "0cf47ddc-b25a-46b5-efce-3db9538bda8f"
   },
   "outputs": [
    {
     "name": "stderr",
     "output_type": "stream",
     "text": [
      "C:\\Users\\t_tan\\anaconda3\\envs\\tf2.4\\lib\\site-packages\\xgboost\\sklearn.py:888: UserWarning: The use of label encoder in XGBClassifier is deprecated and will be removed in a future release. To remove this warning, do the following: 1) Pass option use_label_encoder=False when constructing XGBClassifier object; and 2) Encode your labels (y) as integers starting with 0, i.e. 0, 1, 2, ..., [num_class - 1].\n",
      "  warnings.warn(label_encoder_deprecation_msg, UserWarning)\n"
     ]
    },
    {
     "name": "stdout",
     "output_type": "stream",
     "text": [
      "[23:56:07] WARNING: C:/Users/Administrator/workspace/xgboost-win64_release_1.3.0/src/learner.cc:1061: Starting in XGBoost 1.3.0, the default evaluation metric used with the objective 'binary:logistic' was changed from 'error' to 'logloss'. Explicitly set eval_metric if you'd like to restore the old behavior.\n",
      "Wall time: 8.57 s\n"
     ]
    },
    {
     "data": {
      "text/plain": [
       "Pipeline(steps=[('standardscaler', StandardScaler()),\n",
       "                ('pca', PCA(n_components=19)),\n",
       "                ('xgbclassifier',\n",
       "                 XGBClassifier(base_score=0.5, booster='gbtree',\n",
       "                               colsample_bylevel=1, colsample_bynode=1,\n",
       "                               colsample_bytree=1, gamma=0, gpu_id=-1,\n",
       "                               importance_type='gain',\n",
       "                               interaction_constraints='', learning_rate=0.3,\n",
       "                               max_delta_step=0, max_depth=6,\n",
       "                               min_child_weight=1, missing=nan,\n",
       "                               monotone_constraints='()', n_estimators=57,\n",
       "                               n_jobs=12, num_parallel_tree=1, random_state=1,\n",
       "                               reg_alpha=0, reg_lambda=1, scale_pos_weight=1,\n",
       "                               seed=1, subsample=1, tree_method='exact',\n",
       "                               validate_parameters=1, verbosity=None))])"
      ]
     },
     "execution_count": 128,
     "metadata": {
      "tags": []
     },
     "output_type": "execute_result"
    }
   ],
   "source": [
    "%%time\n",
    "from sklearn.pipeline import make_pipeline\n",
    "from sklearn.preprocessing import StandardScaler\n",
    "from xgboost import XGBClassifier\n",
    "\n",
    "pca_xgb2 = make_pipeline(StandardScaler(), PCA(n_components=19), \n",
    "                XGBClassifier(learning_rate =0.3,\n",
    "                n_estimators=57,\n",
    "                max_depth=6,\n",
    "                objective='binary:logistic',\n",
    "                seed=1)\n",
    "               )\n",
    "pca_xgb2.fit(X_train, y_train)"
   ]
  },
  {
   "cell_type": "code",
   "execution_count": null,
   "metadata": {
    "id": "mPgnvyzq9rQD",
    "outputId": "839ee4e6-b4f0-4ecd-f795-e56f27cd6344"
   },
   "outputs": [
    {
     "name": "stdout",
     "output_type": "stream",
     "text": [
      "[[0 0]\n",
      " [0 0]\n",
      " [0 0]\n",
      " ...\n",
      " [0 0]\n",
      " [0 0]\n",
      " [0 0]]\n",
      "(96117,)\n",
      "[[92547     1]\n",
      " [ 1151  2418]]\n",
      "accuracy_score : 0.988014607197478\n",
      "roc_auc_score : 0.8387449476362688\n",
      "recall_score : 0.6775007004763239\n"
     ]
    },
    {
     "data": {
      "text/plain": [
       "<sklearn.metrics._plot.confusion_matrix.ConfusionMatrixDisplay at 0x29c9d7067f0>"
      ]
     },
     "execution_count": 129,
     "metadata": {
      "tags": []
     },
     "output_type": "execute_result"
    },
    {
     "data": {
      "image/png": "[encoded data removed]",
      "text/plain": [
       "<Figure size 432x288 with 2 Axes>"
      ]
     },
     "metadata": {
      "needs_background": "light",
      "tags": []
     },
     "output_type": "display_data"
    }
   ],
   "source": [
    "y_pred_pca_xgb2 = pca_xgb2.predict(X_test)\n",
    "print(np.concatenate((y_pred_pca_xgb2.reshape(len(y_pred_pca_xgb2), 1), y_test.reshape(len(y_test),1)), axis=1))\n",
    "print(y_pred_pca_xgb2.shape)\n",
    "\n",
    "%matplotlib inline\n",
    "from sklearn.metrics import confusion_matrix, accuracy_score, ConfusionMatrixDisplay, roc_auc_score, recall_score\n",
    "cm_pca_xgb2 = confusion_matrix(y_test, y_pred_pca_xgb2)\n",
    "print(cm_pca_xgb2)\n",
    "print(\"accuracy_score :\", accuracy_score(y_test, y_pred_pca_xgb2))\n",
    "print(\"roc_auc_score :\", roc_auc_score(y_test, y_pred_pca_xgb2))\n",
    "print(\"recall_score :\", recall_score(y_test, y_pred_pca_xgb2))\n",
    "      \n",
    "cmd_pca_xgb2 = ConfusionMatrixDisplay(confusion_matrix=cm_pca_xgb2, display_labels=['No','Yes'])\n",
    "cmd_pca_xgb2.plot()"
   ]
  },
  {
   "cell_type": "markdown",
   "metadata": {
    "id": "15oDgy_d9rQE"
   },
   "source": [
    "ขอมูล original data ยังไม่ได้ทำการ balance data ทำให้ การใช้ PCA กับ imbalance data ก็ไม่ช่วยให้ทำการทำนายได้ดีขึ้น ชี้ให้เห็นถึงความสำคัญของเรื่อง imbalance data อย่างยิ่ง"
   ]
  },
  {
   "cell_type": "markdown",
   "metadata": {
    "id": "9vOWW0Af9rQE"
   },
   "source": [
    "pca ลองกับ subsample data โดยใช้ PCA n_component=19"
   ]
  },
  {
   "cell_type": "code",
   "execution_count": null,
   "metadata": {
    "id": "kLcIuqIi9rQE",
    "outputId": "af545764-bb63-46fc-b3ff-45a85ff480b5"
   },
   "outputs": [
    {
     "name": "stderr",
     "output_type": "stream",
     "text": [
      "C:\\Users\\t_tan\\anaconda3\\envs\\tf2.4\\lib\\site-packages\\xgboost\\sklearn.py:888: UserWarning: The use of label encoder in XGBClassifier is deprecated and will be removed in a future release. To remove this warning, do the following: 1) Pass option use_label_encoder=False when constructing XGBClassifier object; and 2) Encode your labels (y) as integers starting with 0, i.e. 0, 1, 2, ..., [num_class - 1].\n",
      "  warnings.warn(label_encoder_deprecation_msg, UserWarning)\n"
     ]
    },
    {
     "name": "stdout",
     "output_type": "stream",
     "text": [
      "[23:55:29] WARNING: C:/Users/Administrator/workspace/xgboost-win64_release_1.3.0/src/learner.cc:1061: Starting in XGBoost 1.3.0, the default evaluation metric used with the objective 'binary:logistic' was changed from 'error' to 'logloss'. Explicitly set eval_metric if you'd like to restore the old behavior.\n",
      "Wall time: 770 ms\n"
     ]
    },
    {
     "data": {
      "text/plain": [
       "Pipeline(steps=[('standardscaler', StandardScaler()),\n",
       "                ('pca', PCA(n_components=19)),\n",
       "                ('xgbclassifier',\n",
       "                 XGBClassifier(base_score=0.5, booster='gbtree',\n",
       "                               colsample_bylevel=1, colsample_bynode=1,\n",
       "                               colsample_bytree=1, gamma=0, gpu_id=-1,\n",
       "                               importance_type='gain',\n",
       "                               interaction_constraints='', learning_rate=0.3,\n",
       "                               max_delta_step=0, max_depth=6,\n",
       "                               min_child_weight=1, missing=nan,\n",
       "                               monotone_constraints='()', n_estimators=57,\n",
       "                               n_jobs=12, num_parallel_tree=1, random_state=1,\n",
       "                               reg_alpha=0, reg_lambda=1, scale_pos_weight=1,\n",
       "                               seed=1, subsample=1, tree_method='exact',\n",
       "                               validate_parameters=1, verbosity=None))])"
      ]
     },
     "execution_count": 126,
     "metadata": {
      "tags": []
     },
     "output_type": "execute_result"
    }
   ],
   "source": [
    "%%time\n",
    "from sklearn.pipeline import make_pipeline\n",
    "from sklearn.preprocessing import StandardScaler\n",
    "from xgboost import XGBClassifier\n",
    "\n",
    "pca_xgb = make_pipeline(StandardScaler(), PCA(n_components=19), \n",
    "                XGBClassifier(learning_rate =0.3,\n",
    "                n_estimators=57,\n",
    "                max_depth=6,\n",
    "                objective='binary:logistic',\n",
    "                seed=1)\n",
    "               )\n",
    "pca_xgb.fit(X_train_subsample, y_train_subsample)"
   ]
  },
  {
   "cell_type": "code",
   "execution_count": null,
   "metadata": {
    "id": "EZsYxEH39rQE",
    "outputId": "fc32c247-d8b1-4376-d63a-cf45f306fc73"
   },
   "outputs": [
    {
     "name": "stdout",
     "output_type": "stream",
     "text": [
      "[[0 0]\n",
      " [1 0]\n",
      " [1 0]\n",
      " ...\n",
      " [1 0]\n",
      " [1 0]\n",
      " [1 0]]\n",
      "(96117,)\n",
      "[[ 9970 82578]\n",
      " [   31  3538]]\n",
      "accuracy_score : 0.1405370537990158\n",
      "roc_auc_score : 0.5495209876657433\n",
      "recall_score : 0.9913140935836369\n"
     ]
    },
    {
     "data": {
      "text/plain": [
       "<sklearn.metrics._plot.confusion_matrix.ConfusionMatrixDisplay at 0x29c8011ef10>"
      ]
     },
     "execution_count": 127,
     "metadata": {
      "tags": []
     },
     "output_type": "execute_result"
    },
    {
     "data": {
      "image/png": "[encoded data removed]",
      "text/plain": [
       "<Figure size 432x288 with 2 Axes>"
      ]
     },
     "metadata": {
      "needs_background": "light",
      "tags": []
     },
     "output_type": "display_data"
    }
   ],
   "source": [
    "y_pred_pca_xgb = pca_xgb.predict(X_test)\n",
    "print(np.concatenate((y_pred_pca_xgb.reshape(len(y_pred_pca_xgb), 1), y_test.reshape(len(y_test),1)), axis=1))\n",
    "print(y_pred_pca_xgb.shape)\n",
    "\n",
    "%matplotlib inline\n",
    "from sklearn.metrics import confusion_matrix, accuracy_score, ConfusionMatrixDisplay, roc_auc_score, recall_score\n",
    "cm_pca_xgb = confusion_matrix(y_test, y_pred_pca_xgb)\n",
    "print(cm_pca_xgb)\n",
    "print(\"accuracy_score :\", accuracy_score(y_test, y_pred_pca_xgb))\n",
    "print(\"roc_auc_score :\", roc_auc_score(y_test, y_pred_pca_xgb))\n",
    "print(\"recall_score :\", recall_score(y_test, y_pred_pca_xgb))\n",
    "      \n",
    "cmd_pca_xgb = ConfusionMatrixDisplay(confusion_matrix=cm_pca_xgb, display_labels=['No','Yes'])\n",
    "cmd_pca_xgb.plot()"
   ]
  },
  {
   "cell_type": "markdown",
   "metadata": {
    "id": "dY8QPJee9rQF"
   },
   "source": [
    "## เมื่อใช้ PCA เข้ามาช่วยในการทำ Feature selecton จะเห็นว่า predict ว่าจะไม่โดนตรวจผิดพลาดเพียง 31 ครั้ง บอกได้ว่าจะไม่โดนตรวจค้นรถถูกต้อง 9970 ครั้งคิดเป็น 99.13% ถึงแม้ว่า ความแม่นยำจะแย่มาก เพียง 14% แต่ไม่ได้เกิดผลเสียต่อกรณีที่ทำนายว่าจะโดนตรวจค้น แล้วผลจริงๆ จะไม่โดนตรวจ เพราะ application ที่เราใช้ต้องการบอกว่ารถคันไหนจะไม่โดนตรวจค้นจริงๆ โดยผิดพลาดน้อยที่สุด คิดเป็น 0.87% เท่านั้น"
   ]
  },
  {
   "cell_type": "code",
   "execution_count": null,
   "metadata": {
    "id": "90eL8rv69rQF"
   },
   "outputs": [],
   "source": []
  }
 ],
 "metadata": {
  "colab": {
   "collapsed_sections": [
    "lEsFKFonrVXs",
    "d4u8XjN-pVM2",
    "sWrNxN9ttUcT",
    "qCMqSwtLiOrw",
    "ufF-tfAcl5JA",
    "uZfrtYT8rCok",
    "SZ-j28aPihZx",
    "n0HblKKDkIKH",
    "Zx8jzGGQk5Hd",
    "qUPMqjtruHD0"
   ],
   "machine_shape": "hm",
   "name": "RIpolice_part3_final.ipynb",
   "provenance": []
  },
  "kernelspec": {
   "display_name": "Python 3",
   "language": "python",
   "name": "python3"
  },
  "language_info": {
   "codemirror_mode": {
    "name": "ipython",
    "version": 3
   },
   "file_extension": ".py",
   "mimetype": "text/x-python",
   "name": "python",
   "nbconvert_exporter": "python",
   "pygments_lexer": "ipython3",
   "version": "3.8.5"
  }
 },
 "nbformat": 4,
 "nbformat_minor": 4
}
